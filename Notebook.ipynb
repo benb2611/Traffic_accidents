{
 "cells": [
  {
   "cell_type": "markdown",
   "metadata": {},
   "source": [
    "# Traffic accidents in France (2018)\n",
    "\n",
    "---\n",
    "\n",
    "This notebook serves as report for the Data Mining module of the Nantes Universiy Master Degree of Computing Science.\n",
    "\n",
    "Made by Loic Lasherme and Louis Boursier on april 30, 2020.\n",
    "\n",
    "---\n",
    "\n",
    "1. Data introduction\n",
    "2. Data preparation part I\n",
    "    1. Feature selection\n",
    "    2. Data type checking\n",
    "    3. Variable creation\n",
    "3. Exploratory data analysis & Descriptive statistics\n",
    "    1. Univariate analysis (variable's value distribution)\n",
    "    2. Bivariate analysis (variable dependence)\n",
    "4. Data preparation part II\n",
    "    1. Missing and erroneous values\n",
    "        1. Method A: Statistically impute values\n",
    "        2. Method B: Discretize numeric variables\n",
    "    2. Outliers\n",
    "    3. Variable Transformation\n",
    "        1. Standardization\n",
    "        2. Normalization\n",
    "5. Models"
   ]
  },
  {
   "cell_type": "markdown",
   "metadata": {},
   "source": [
    "## 1. Data Introduction\n",
    "\n",
    "The dataset has been found on [the french government official website](https://www.data.gouv.fr/fr/datasets/base-de-donnees-accidents-corporels-de-la-circulation/). It is called *Base de données accidents corporels de la circulation* which means Traffic Accident Injury Database. It comes from the French Ministry of the Interior and is under **open licence** [which means we can do whatever we want with it as long as we cite the author of the data](https://www.etalab.gouv.fr/wp-content/uploads/2014/05/Licence_Ouverte.pdf). \n",
    "\n",
    "For this project, we will focus on the 2018 dataset. 5 files will be used:\n",
    "* [Description des bases de données ... de 2005 à 2018](https://www.data.gouv.fr/fr/datasets/r/8d4df329-bbbb-434c-9f1f-596d78ad529f) PDF file that describes the meaning of each variable in the files below\n",
    "* [vehicules-2018.csv](https://www.data.gouv.fr/fr/datasets/r/b4aaeede-1a80-4d76-8f97-543dad479167) Information about the type of vehicle, the damage it took and the maneuver\n",
    "* [usagers-2018.csv](https://www.data.gouv.fr/fr/datasets/r/72b251e1-d5e1-4c46-a1c2-c65f1b26549a) Information about the driver, passenger, pedestrian... (age, gender...) and the severity of the accident (unharmed, injured, killed...)\n",
    "* [lieux-2018.csv](https://www.data.gouv.fr/fr/datasets/r/d9d65ca1-16a3-4ea3-b7c8-2412c92b69d9) Information about road infrastructure\n",
    "* [caracteristiques-2018.csv](https://www.data.gouv.fr/fr/datasets/r/6eee0852-cbd7-447e-bd70-37c433029405) Information about the date, place, weather and collision type\n",
    "\n",
    "Each CSV file is linked to the others thanks to the numeric variable *Num_ACC* (meaning accident id).\n",
    "\n",
    "We are interested in the **grav** categorical variable contained in the *lieux2018.csv* file. This variable tells us about the severity of the accident. It can take four different values:\n",
    "\n",
    "* **1** (unharmed)\n",
    "* **2** (killed)\n",
    "* **3** (hospitalied)\n",
    "* **4** (minor injury)\n",
    "\n",
    "It seems that this is an ordinal variable as there is an order in the severity of the accident (from unharmed to kill), but the values do not correspond to this order and present the variable as a nominal one. Anyway, for this project, we will binarize this variable into either **unharmed** (0) or **killed** (1) and use it as the class we try to predict.\n"
   ]
  },
  {
   "cell_type": "markdown",
   "metadata": {},
   "source": [
    "## 2. Data preparation part I"
   ]
  },
  {
   "cell_type": "markdown",
   "metadata": {},
   "source": [
    "### A. Feature selection\n",
    "\n",
    "First of all, we can start with joining the 4 tables on the Num_ACC variable, and then delete this variable as it it just an artifical variable (a key) that is not related to the class we try to predict. We can then discard variables we are sure have no influence on the class (killed or unharmmed). We need to be really carefull when doing so as the relevance of some variable might not be immediatly obvious. Because we are alone on this project, we will take the road traffic expert hat and choose which variables we need and which we can eliminate."
   ]
  },
  {
   "cell_type": "code",
   "execution_count": 1,
   "metadata": {},
   "outputs": [
    {
     "name": "stderr",
     "output_type": "stream",
     "text": [
      "C:\\Users\\loutouk\\Anaconda3\\lib\\site-packages\\IPython\\core\\interactiveshell.py:3020: DtypeWarning: Columns (2) have mixed types.Specify dtype option on import or set low_memory=False.\n",
      "  interactivity=interactivity, compiler=compiler, result=result)\n"
     ]
    }
   ],
   "source": [
    "import pandas as pd\n",
    "\n",
    "peoples = pd.read_csv(\"Original/usagers-2018.csv\", encoding='latin-1')\n",
    "vehicles = pd.read_csv(\"Original/vehicules-2018.csv\", encoding='latin-1')\n",
    "locations = pd.read_csv(\"Original/lieux-2018.csv\", encoding='latin-1')\n",
    "roads = pd.read_csv(\"Original/caracteristiques-2018.csv\", encoding='latin-1')"
   ]
  },
  {
   "cell_type": "markdown",
   "metadata": {},
   "source": [
    "When loading the file *lieux-2018.csv*, pandas triggers a warning: \n",
    "\n",
    "**DtypeWarning: Columns (2) have mixed types.Specify dtype option on import or set low_memory=False**\n",
    "\n",
    "The feature **catr** has mixed types. We will use this information later.\n",
    "\n",
    "Moreover, when loading the file *caracteristiques-2018.csv* gives us the following error: \n",
    "\n",
    "**UnicodeDecodeError: 'utf-8' codec can't decode byte 0xe9 in position 10: invalid continuation byte**\n",
    "\n",
    "If we look the encoding of the file using Libre Office Calc, we see that the encoding is set to **latin-1**, this is where the error stems from. Specifiying the encoding to pandas will solve the problem."
   ]
  },
  {
   "cell_type": "code",
   "execution_count": 2,
   "metadata": {},
   "outputs": [],
   "source": [
    "# merge all files together on the 'Num_Acc' key\n",
    "df = pd.merge(peoples, vehicles, on=['Num_Acc','Num_Acc'])\n",
    "df = pd.merge(df, locations, on=['Num_Acc','Num_Acc'])\n",
    "df = pd.merge(df, roads, on=['Num_Acc','Num_Acc'])\n",
    "\n",
    "# remove the 'Num_Acc' key\n",
    "df = df.drop(['Num_Acc'], 1)"
   ]
  },
  {
   "cell_type": "markdown",
   "metadata": {},
   "source": [
    "We can now remove variables we are think are not needed:\n",
    "* **an** We can remove the year because it is always 2018\n",
    "* **jour** We can remove the day **number** as we do no think it is related to the class (might have been if it was the day name)\n",
    "* **com** Same (region)\n",
    "* **adr** Same (person's address)\n",
    "* **gps** Same\n",
    "* **lat** Same\n",
    "* **long** Same\n",
    "* **v1** We can remove it as it is almost empty and might bias our model\n",
    "* **v2** We can remove it as it is almost empty and might bias our model\n",
    "* **lartpc** We can remove it as it is almost empty and might bias our model\n",
    "* **larrout** We can remove it as it is almost empty and might bias our model\n",
    "* **vosp** We can remove it (existence of a walking or cycling path nearby) as we do no think it is related to the class\n",
    "* **pr** We can remove it as it is almost empty and might bias our model\n",
    "* **pr1** Same\n",
    "* **locp** Same\n",
    "* **actp** Same\n",
    "* **etatp** Same\n",
    "* **num_veh** Same (licence plate)\n",
    "* **senc** Same (running direction)\n",
    "\n",
    "We allowed ourselves to remove those variables as we play the role of the domain expert. However, when we are not sure about which variable we should keep, the choice should be guided by a pragmatic method. Such methods will be explain below."
   ]
  },
  {
   "cell_type": "code",
   "execution_count": 3,
   "metadata": {},
   "outputs": [],
   "source": [
    "df = df.drop(['locp','actp','etatp','lartpc','larrout','an','jour','com','adr','gps','lat','long','v1','v2','vosp','pr','pr1','num_veh_x','num_veh_y','senc'], 1)"
   ]
  },
  {
   "cell_type": "code",
   "execution_count": 4,
   "metadata": {},
   "outputs": [
    {
     "data": {
      "text/plain": [
       "(248406, 31)"
      ]
     },
     "execution_count": 4,
     "metadata": {},
     "output_type": "execute_result"
    }
   ],
   "source": [
    "df.shape"
   ]
  },
  {
   "cell_type": "markdown",
   "metadata": {},
   "source": [
    "We now have 31 variables for 248 406 rows, this is a lot and can be an obstacle for building good models. Irrelevant features can negatively impact model performance, but so will deleting meaningful features. If we want to remove more features\n",
    "while maintening good model performance, following methods can be used:\n",
    "\n",
    "* Wrapper methods (multiple models evaluation)\n",
    "    * Recursive feature elimination\n",
    "    * ...\n",
    "* Filter methods (statistical measures)\n",
    "    * Numerical Input - Numerical Output\n",
    "        * Pearson’s correlation coefficient (linear)\n",
    "        * Spearman’s rank coefficient (nonlinear)\n",
    "    * Numerical Input - Categorical Output\n",
    "        * ANOVA correlation coefficient (linear)\n",
    "        * Kendall’s rank coefficient (nonlinear)\n",
    "    * Categorical Input - Numerical Output\n",
    "        * Reversed above methods\n",
    "    * Categorical Input - Categorical Output\n",
    "        * Chi-Squared test (contingency tables)\n",
    "        * Mutual Information (works on all types)\n",
    "* Embedded methods (while the model is learning)\n",
    "    * Regularization\n",
    "        * Ridge Regression\n",
    "        * LASSO\n",
    "        * ...\n",
    "    \n",
    "We want to reduce the number of variables for the following reasons:\n",
    "* Reduce the data needed to create a good performing model (less exploration needed)\n",
    "* Less time and energy spent running the algorithm\n",
    "* Reduce noise and random structures which **seem** to make sense but can foster overfitting"
   ]
  },
  {
   "cell_type": "markdown",
   "metadata": {},
   "source": [
    "### B. Data type checking\n",
    "\n",
    "We saw that the feature **catr** had mixed types. Let us start from here. If we read the data description PDF file, we see that this variable can take 7 values:\n",
    "\n",
    "* **1** Highway\n",
    "* **2** National road\n",
    "* **3** County Road\n",
    "* **4** Local road\n",
    "* **5** Private road\n",
    "* **6** Parking lot open to public traffic\n",
    "* **9** Other"
   ]
  },
  {
   "cell_type": "code",
   "execution_count": 5,
   "metadata": {},
   "outputs": [],
   "source": [
    "df['catr'].describe()\n",
    "boxplot = df.boxplot(column=['catr']) # inspects values range with a box lot"
   ]
  },
  {
   "cell_type": "code",
   "execution_count": 6,
   "metadata": {},
   "outputs": [
    {
     "data": {
      "text/plain": [
       "<matplotlib.axes._subplots.AxesSubplot at 0x1b8846b9908>"
      ]
     },
     "execution_count": 6,
     "metadata": {},
     "output_type": "execute_result"
    },
    {
     "data": {
      "image/png": "[encoded data removed]",
      "text/plain": [
       "<Figure size 720x720 with 1 Axes>"
      ]
     },
     "metadata": {},
     "output_type": "display_data"
    }
   ],
   "source": [
    "# checks that values match the variable description\n",
    "# we can see that there exist rows whose catr value is 7 and that should not be according to the data description!\n",
    "df.catr.value_counts().plot(kind='pie', figsize=(10, 10))"
   ]
  },
  {
   "cell_type": "code",
   "execution_count": 7,
   "metadata": {},
   "outputs": [
    {
     "data": {
      "text/html": [
       "<div>\n",
       "<style scoped>\n",
       "    .dataframe tbody tr th:only-of-type {\n",
       "        vertical-align: middle;\n",
       "    }\n",
       "\n",
       "    .dataframe tbody tr th {\n",
       "        vertical-align: top;\n",
       "    }\n",
       "\n",
       "    .dataframe thead th {\n",
       "        text-align: right;\n",
       "    }\n",
       "</style>\n",
       "<table border=\"1\" class=\"dataframe\">\n",
       "  <thead>\n",
       "    <tr style=\"text-align: right;\">\n",
       "      <th></th>\n",
       "      <th>place</th>\n",
       "      <th>catu</th>\n",
       "      <th>grav</th>\n",
       "      <th>sexe</th>\n",
       "      <th>trajet</th>\n",
       "      <th>secu</th>\n",
       "      <th>an_nais</th>\n",
       "      <th>catv</th>\n",
       "      <th>occutc</th>\n",
       "      <th>obs</th>\n",
       "      <th>...</th>\n",
       "      <th>situ</th>\n",
       "      <th>env1</th>\n",
       "      <th>mois</th>\n",
       "      <th>hrmn</th>\n",
       "      <th>lum</th>\n",
       "      <th>agg</th>\n",
       "      <th>int</th>\n",
       "      <th>atm</th>\n",
       "      <th>col</th>\n",
       "      <th>dep</th>\n",
       "    </tr>\n",
       "  </thead>\n",
       "  <tbody>\n",
       "    <tr>\n",
       "      <th>3478</th>\n",
       "      <td>1.0</td>\n",
       "      <td>1</td>\n",
       "      <td>4</td>\n",
       "      <td>1</td>\n",
       "      <td>1.0</td>\n",
       "      <td>21.0</td>\n",
       "      <td>1975.0</td>\n",
       "      <td>1</td>\n",
       "      <td>0</td>\n",
       "      <td>0.0</td>\n",
       "      <td>...</td>\n",
       "      <td>1.0</td>\n",
       "      <td>0.0</td>\n",
       "      <td>2</td>\n",
       "      <td>745</td>\n",
       "      <td>2</td>\n",
       "      <td>2</td>\n",
       "      <td>6</td>\n",
       "      <td>1.0</td>\n",
       "      <td>3.0</td>\n",
       "      <td>440</td>\n",
       "    </tr>\n",
       "    <tr>\n",
       "      <th>3479</th>\n",
       "      <td>1.0</td>\n",
       "      <td>1</td>\n",
       "      <td>4</td>\n",
       "      <td>1</td>\n",
       "      <td>1.0</td>\n",
       "      <td>21.0</td>\n",
       "      <td>1975.0</td>\n",
       "      <td>7</td>\n",
       "      <td>0</td>\n",
       "      <td>0.0</td>\n",
       "      <td>...</td>\n",
       "      <td>1.0</td>\n",
       "      <td>0.0</td>\n",
       "      <td>2</td>\n",
       "      <td>745</td>\n",
       "      <td>2</td>\n",
       "      <td>2</td>\n",
       "      <td>6</td>\n",
       "      <td>1.0</td>\n",
       "      <td>3.0</td>\n",
       "      <td>440</td>\n",
       "    </tr>\n",
       "    <tr>\n",
       "      <th>3480</th>\n",
       "      <td>1.0</td>\n",
       "      <td>1</td>\n",
       "      <td>1</td>\n",
       "      <td>2</td>\n",
       "      <td>1.0</td>\n",
       "      <td>11.0</td>\n",
       "      <td>1963.0</td>\n",
       "      <td>1</td>\n",
       "      <td>0</td>\n",
       "      <td>0.0</td>\n",
       "      <td>...</td>\n",
       "      <td>1.0</td>\n",
       "      <td>0.0</td>\n",
       "      <td>2</td>\n",
       "      <td>745</td>\n",
       "      <td>2</td>\n",
       "      <td>2</td>\n",
       "      <td>6</td>\n",
       "      <td>1.0</td>\n",
       "      <td>3.0</td>\n",
       "      <td>440</td>\n",
       "    </tr>\n",
       "    <tr>\n",
       "      <th>3481</th>\n",
       "      <td>1.0</td>\n",
       "      <td>1</td>\n",
       "      <td>1</td>\n",
       "      <td>2</td>\n",
       "      <td>1.0</td>\n",
       "      <td>11.0</td>\n",
       "      <td>1963.0</td>\n",
       "      <td>7</td>\n",
       "      <td>0</td>\n",
       "      <td>0.0</td>\n",
       "      <td>...</td>\n",
       "      <td>1.0</td>\n",
       "      <td>0.0</td>\n",
       "      <td>2</td>\n",
       "      <td>745</td>\n",
       "      <td>2</td>\n",
       "      <td>2</td>\n",
       "      <td>6</td>\n",
       "      <td>1.0</td>\n",
       "      <td>3.0</td>\n",
       "      <td>440</td>\n",
       "    </tr>\n",
       "    <tr>\n",
       "      <th>3492</th>\n",
       "      <td>1.0</td>\n",
       "      <td>1</td>\n",
       "      <td>3</td>\n",
       "      <td>1</td>\n",
       "      <td>5.0</td>\n",
       "      <td>21.0</td>\n",
       "      <td>1993.0</td>\n",
       "      <td>30</td>\n",
       "      <td>0</td>\n",
       "      <td>0.0</td>\n",
       "      <td>...</td>\n",
       "      <td>1.0</td>\n",
       "      <td>0.0</td>\n",
       "      <td>6</td>\n",
       "      <td>630</td>\n",
       "      <td>5</td>\n",
       "      <td>2</td>\n",
       "      <td>1</td>\n",
       "      <td>1.0</td>\n",
       "      <td>7.0</td>\n",
       "      <td>440</td>\n",
       "    </tr>\n",
       "    <tr>\n",
       "      <th>...</th>\n",
       "      <td>...</td>\n",
       "      <td>...</td>\n",
       "      <td>...</td>\n",
       "      <td>...</td>\n",
       "      <td>...</td>\n",
       "      <td>...</td>\n",
       "      <td>...</td>\n",
       "      <td>...</td>\n",
       "      <td>...</td>\n",
       "      <td>...</td>\n",
       "      <td>...</td>\n",
       "      <td>...</td>\n",
       "      <td>...</td>\n",
       "      <td>...</td>\n",
       "      <td>...</td>\n",
       "      <td>...</td>\n",
       "      <td>...</td>\n",
       "      <td>...</td>\n",
       "      <td>...</td>\n",
       "      <td>...</td>\n",
       "      <td>...</td>\n",
       "    </tr>\n",
       "    <tr>\n",
       "      <th>208555</th>\n",
       "      <td>1.0</td>\n",
       "      <td>1</td>\n",
       "      <td>4</td>\n",
       "      <td>2</td>\n",
       "      <td>0.0</td>\n",
       "      <td>21.0</td>\n",
       "      <td>1999.0</td>\n",
       "      <td>1</td>\n",
       "      <td>0</td>\n",
       "      <td>0.0</td>\n",
       "      <td>...</td>\n",
       "      <td>3.0</td>\n",
       "      <td>0.0</td>\n",
       "      <td>12</td>\n",
       "      <td>1220</td>\n",
       "      <td>1</td>\n",
       "      <td>2</td>\n",
       "      <td>1</td>\n",
       "      <td>2.0</td>\n",
       "      <td>2.0</td>\n",
       "      <td>690</td>\n",
       "    </tr>\n",
       "    <tr>\n",
       "      <th>208590</th>\n",
       "      <td>1.0</td>\n",
       "      <td>1</td>\n",
       "      <td>4</td>\n",
       "      <td>1</td>\n",
       "      <td>0.0</td>\n",
       "      <td>21.0</td>\n",
       "      <td>1997.0</td>\n",
       "      <td>30</td>\n",
       "      <td>0</td>\n",
       "      <td>0.0</td>\n",
       "      <td>...</td>\n",
       "      <td>3.0</td>\n",
       "      <td>0.0</td>\n",
       "      <td>12</td>\n",
       "      <td>1555</td>\n",
       "      <td>1</td>\n",
       "      <td>2</td>\n",
       "      <td>1</td>\n",
       "      <td>8.0</td>\n",
       "      <td>2.0</td>\n",
       "      <td>690</td>\n",
       "    </tr>\n",
       "    <tr>\n",
       "      <th>208591</th>\n",
       "      <td>1.0</td>\n",
       "      <td>1</td>\n",
       "      <td>4</td>\n",
       "      <td>1</td>\n",
       "      <td>0.0</td>\n",
       "      <td>21.0</td>\n",
       "      <td>1997.0</td>\n",
       "      <td>7</td>\n",
       "      <td>0</td>\n",
       "      <td>0.0</td>\n",
       "      <td>...</td>\n",
       "      <td>3.0</td>\n",
       "      <td>0.0</td>\n",
       "      <td>12</td>\n",
       "      <td>1555</td>\n",
       "      <td>1</td>\n",
       "      <td>2</td>\n",
       "      <td>1</td>\n",
       "      <td>8.0</td>\n",
       "      <td>2.0</td>\n",
       "      <td>690</td>\n",
       "    </tr>\n",
       "    <tr>\n",
       "      <th>208592</th>\n",
       "      <td>1.0</td>\n",
       "      <td>1</td>\n",
       "      <td>1</td>\n",
       "      <td>1</td>\n",
       "      <td>5.0</td>\n",
       "      <td>11.0</td>\n",
       "      <td>1971.0</td>\n",
       "      <td>30</td>\n",
       "      <td>0</td>\n",
       "      <td>0.0</td>\n",
       "      <td>...</td>\n",
       "      <td>3.0</td>\n",
       "      <td>0.0</td>\n",
       "      <td>12</td>\n",
       "      <td>1555</td>\n",
       "      <td>1</td>\n",
       "      <td>2</td>\n",
       "      <td>1</td>\n",
       "      <td>8.0</td>\n",
       "      <td>2.0</td>\n",
       "      <td>690</td>\n",
       "    </tr>\n",
       "    <tr>\n",
       "      <th>208593</th>\n",
       "      <td>1.0</td>\n",
       "      <td>1</td>\n",
       "      <td>1</td>\n",
       "      <td>1</td>\n",
       "      <td>5.0</td>\n",
       "      <td>11.0</td>\n",
       "      <td>1971.0</td>\n",
       "      <td>7</td>\n",
       "      <td>0</td>\n",
       "      <td>0.0</td>\n",
       "      <td>...</td>\n",
       "      <td>3.0</td>\n",
       "      <td>0.0</td>\n",
       "      <td>12</td>\n",
       "      <td>1555</td>\n",
       "      <td>1</td>\n",
       "      <td>2</td>\n",
       "      <td>1</td>\n",
       "      <td>8.0</td>\n",
       "      <td>2.0</td>\n",
       "      <td>690</td>\n",
       "    </tr>\n",
       "  </tbody>\n",
       "</table>\n",
       "<p>1721 rows × 31 columns</p>\n",
       "</div>"
      ],
      "text/plain": [
       "        place  catu  grav  sexe  trajet  secu  an_nais  catv  occutc  obs  \\\n",
       "3478      1.0     1     4     1     1.0  21.0   1975.0     1       0  0.0   \n",
       "3479      1.0     1     4     1     1.0  21.0   1975.0     7       0  0.0   \n",
       "3480      1.0     1     1     2     1.0  11.0   1963.0     1       0  0.0   \n",
       "3481      1.0     1     1     2     1.0  11.0   1963.0     7       0  0.0   \n",
       "3492      1.0     1     3     1     5.0  21.0   1993.0    30       0  0.0   \n",
       "...       ...   ...   ...   ...     ...   ...      ...   ...     ...  ...   \n",
       "208555    1.0     1     4     2     0.0  21.0   1999.0     1       0  0.0   \n",
       "208590    1.0     1     4     1     0.0  21.0   1997.0    30       0  0.0   \n",
       "208591    1.0     1     4     1     0.0  21.0   1997.0     7       0  0.0   \n",
       "208592    1.0     1     1     1     5.0  11.0   1971.0    30       0  0.0   \n",
       "208593    1.0     1     1     1     5.0  11.0   1971.0     7       0  0.0   \n",
       "\n",
       "        ...  situ  env1  mois  hrmn lum  agg  int  atm  col  dep  \n",
       "3478    ...   1.0   0.0     2   745   2    2    6  1.0  3.0  440  \n",
       "3479    ...   1.0   0.0     2   745   2    2    6  1.0  3.0  440  \n",
       "3480    ...   1.0   0.0     2   745   2    2    6  1.0  3.0  440  \n",
       "3481    ...   1.0   0.0     2   745   2    2    6  1.0  3.0  440  \n",
       "3492    ...   1.0   0.0     6   630   5    2    1  1.0  7.0  440  \n",
       "...     ...   ...   ...   ...   ...  ..  ...  ...  ...  ...  ...  \n",
       "208555  ...   3.0   0.0    12  1220   1    2    1  2.0  2.0  690  \n",
       "208590  ...   3.0   0.0    12  1555   1    2    1  8.0  2.0  690  \n",
       "208591  ...   3.0   0.0    12  1555   1    2    1  8.0  2.0  690  \n",
       "208592  ...   3.0   0.0    12  1555   1    2    1  8.0  2.0  690  \n",
       "208593  ...   3.0   0.0    12  1555   1    2    1  8.0  2.0  690  \n",
       "\n",
       "[1721 rows x 31 columns]"
      ]
     },
     "execution_count": 7,
     "metadata": {},
     "output_type": "execute_result"
    }
   ],
   "source": [
    "df.loc[df['catr'] == 7.0]"
   ]
  },
  {
   "cell_type": "markdown",
   "metadata": {},
   "source": [
    "We discovered that 1721 rows over 248 406 contain the value 7 for the attribute **catr**, which does not correspond to anything according to the data description. For now, we decide to not do any modification as it should probably not impair the model. Another possibility would be to delete the rows (we can consider it as it is les than 2% of the total dataset) or to impute values with statistical tools.\n",
    "\n",
    "Using the command ```df.dtypes```, we can see pandas loaded some categorical variables as numbers (int64 or float64)  instead of string (object). This is understandable as the values of those categorical variables often are numerical. **We should cast them back to string, otherwise the model could be biased into *thinking* there is an order in some variable**, where there is actually not. This could also lead the model into attributing more importance to the bigger values than the smaller. \n",
    "\n",
    "We see that there is almost only categorical variables, this is a bad thing for models working only whith number. Indeed, operation like one hot encoding to translate categorical variable to numerical one will generate more variable that will add up to the existing 31. Fortunately, we can still do feature selection as mentioned above, and dimensionality reduction (at the cost of not being able to make sense of the input anymore).\n",
    "\n",
    "Returning to the previous problem, the presence of the value 7 for the catr feature will translate into a kind of *NULL* category and will not be a problem anymore. A bit like we could handle empty values."
   ]
  },
  {
   "cell_type": "code",
   "execution_count": 8,
   "metadata": {},
   "outputs": [
    {
     "data": {
      "text/plain": [
       "place      float64\n",
       "catu         int64\n",
       "grav         int64\n",
       "sexe         int64\n",
       "trajet     float64\n",
       "secu       float64\n",
       "an_nais    float64\n",
       "catv         int64\n",
       "occutc       int64\n",
       "obs        float64\n",
       "obsm       float64\n",
       "choc       float64\n",
       "manv       float64\n",
       "catr         int64\n",
       "voie        object\n",
       "circ       float64\n",
       "nbv        float64\n",
       "prof       float64\n",
       "plan       float64\n",
       "surf       float64\n",
       "infra      float64\n",
       "situ       float64\n",
       "env1       float64\n",
       "mois         int64\n",
       "hrmn         int64\n",
       "lum          int64\n",
       "agg          int64\n",
       "int          int64\n",
       "atm        float64\n",
       "col        float64\n",
       "dep          int64\n",
       "dtype: object"
      ]
     },
     "execution_count": 8,
     "metadata": {},
     "output_type": "execute_result"
    }
   ],
   "source": [
    "df.dtypes # tells us the type for each column"
   ]
  },
  {
   "cell_type": "code",
   "execution_count": 9,
   "metadata": {},
   "outputs": [],
   "source": [
    "# cast categorical variables to string\n",
    "df['place'] = df['place'].astype(str)\n",
    "df['catu'] = df['catu'].astype(str)\n",
    "df['grav'] = df['grav'].astype(str)\n",
    "df['sexe'] = df['catu'].astype(str)\n",
    "df['trajet'] = df['trajet'].astype(str)\n",
    "df['secu'] = df['secu'].astype(str)\n",
    "df['catv'] = df['catv'].astype(str)\n",
    "df['obs'] = df['obs'].astype(str)\n",
    "df['obsm'] = df['obsm'].astype(str)\n",
    "df['choc'] = df['choc'].astype(str)\n",
    "df['manv'] = df['manv'].astype(str)\n",
    "df['catr'] = df['catr'].astype(str)\n",
    "df['voie'] = df['voie'].astype(str)\n",
    "df['circ'] = df['circ'].astype(str)\n",
    "df['prof'] = df['prof'].astype(str)\n",
    "df['plan'] = df['plan'].astype(str)\n",
    "df['surf'] = df['surf'].astype(str)\n",
    "df['infra'] = df['infra'].astype(str)\n",
    "df['situ'] = df['situ'].astype(str)\n",
    "df['env1'] = df['env1'].astype(str)\n",
    "df['mois'] = df['mois'].astype(str)\n",
    "df['lum'] = df['lum'].astype(str)\n",
    "df['agg'] = df['agg'].astype(str)\n",
    "df['int'] = df['int'].astype(str)\n",
    "df['atm'] = df['atm'].astype(str)\n",
    "df['col'] = df['col'].astype(str)\n",
    "df['dep'] = df['dep'].astype(str)"
   ]
  },
  {
   "cell_type": "code",
   "execution_count": 10,
   "metadata": {
    "scrolled": true
   },
   "outputs": [
    {
     "name": "stdout",
     "output_type": "stream",
     "text": [
      "secu 19\n",
      "an_nais 104\n",
      "catv 24\n",
      "occutc 79\n",
      "obs 18\n",
      "choc 11\n",
      "manv 26\n",
      "voie 1535\n",
      "nbv 14\n",
      "surf 11\n",
      "mois 12\n",
      "hrmn 1362\n",
      "dep 101\n"
     ]
    }
   ],
   "source": [
    "# identifies which columns have many different values\n",
    "columns = list(df)\n",
    "for i in columns: \n",
    "    if df[i].value_counts().size > 10:\n",
    "        print (i + \" \" + str(df[i].value_counts().size))"
   ]
  },
  {
   "cell_type": "markdown",
   "metadata": {},
   "source": [
    "We can leverage our human potential to alleviate the algorithms from some of their work. A first step could be to iterate over all columns, and inspect categorical variables that exceed a limit in the size of the number of values they harbor. \n",
    "\n",
    "By doing so, we discovered that the **secu** variable contains 19 different possibilities. Reading the documentation to understand why it is so, we saw that this variable is actually the concatenation of two different variables. The first part can take (5+1) different values and (3+1) for the second, leading to potentially 24 different combinations!\n",
    "If we read the description, the first part is about the presence of a security equipment such as a belt or a helmet, and the second is about the whether this equipment was used or not. \n",
    "**We need to find a way to reduce the combinations.** A solution can be to only pay attention to the belt:\n",
    "* **11** belt is fastened\n",
    "* **12** belt is not fastened\n",
    "* **0**  set all remaining combinations to zero"
   ]
  },
  {
   "cell_type": "code",
   "execution_count": 11,
   "metadata": {},
   "outputs": [],
   "source": [
    "for index, row in df.iterrows():\n",
    "    if row.secu != '11.0' and row.secu != '12.0':\n",
    "        df.at[index,'secu'] = '0.0'"
   ]
  },
  {
   "cell_type": "markdown",
   "metadata": {},
   "source": [
    "We now have reduced the **secu** distinct values count from 19 to 3 without, hopefully, altering the quality of the future models. \n",
    "\n",
    "We can do the same analysis for the other variables. The next one is **catv** which is about the kind of vehicle involved. Reading the data description, we can see that some values are not used. We can easily set them all to a shared value used for the *NULL* or *OTHER* type. In this case, it is the value 99. For the remaining values, we can group common vehicles with the same id. For exemple, we can set small moped and scooter to the same value."
   ]
  },
  {
   "cell_type": "code",
   "execution_count": 12,
   "metadata": {},
   "outputs": [],
   "source": [
    "for index, row in df.iterrows():\n",
    "    if row.catv == '02': # group by small motorcycle\n",
    "        df.at[index,'catv'] = '30'\n",
    "    if row.catv == '31': # group by medium motorcycle\n",
    "        df.at[index,'catv'] = '32'\n",
    "    if row.catv == '33': # group by big motorcycle\n",
    "        df.at[index,'catv'] = '34'\n",
    "    if row.catv == '38': # group by bus\n",
    "        df.at[index,'catv'] = '37'\n",
    "    if row.catv == '04' or row.catv == '05' or row.catv == '06' or row.catv == '08' \\\n",
    "        or row.catv == '09' or row.catv == '18' or row.catv == '19': # group by null or other\n",
    "        df.at[index,'catv'] = '99'"
   ]
  },
  {
   "cell_type": "code",
   "execution_count": 13,
   "metadata": {},
   "outputs": [
    {
     "data": {
      "text/plain": [
       "count     248406\n",
       "unique        21\n",
       "top            7\n",
       "freq      162465\n",
       "Name: catv, dtype: object"
      ]
     },
     "execution_count": 13,
     "metadata": {},
     "output_type": "execute_result"
    },
    {
     "data": {
      "image/png": "[encoded data removed]",
      "text/plain": [
       "<Figure size 720x720 with 1 Axes>"
      ]
     },
     "metadata": {},
     "output_type": "display_data"
    }
   ],
   "source": [
    "df.catv.value_counts().plot(kind='pie', figsize=(10, 10))\n",
    "df['catv'].describe()"
   ]
  },
  {
   "cell_type": "markdown",
   "metadata": {},
   "source": [
    "We see that most of the data is about the **07** vehicle type. It translates into *light vehicle* and means the everyday car.\n",
    "If future models reveal themselves too complex (and have bad performance), we could always restrict ourselves to this type of vehicle. We could also generalize even more to group some vehicles into the same category. We also need to be aware that **future models can have trouble to predict correctly the class for vehicles that are not the *07* type**, because this vehicle type is ubiquitous and the model will be incentivize to predict correctly for this type of vehicle with less care for other vehicle types. Indeed, focusing on the most represented type will generate the best score on average.\n",
    "\n",
    "The same kind of reasoning can be applied to those variables:\n",
    "* obs\n",
    "* choc\n",
    "* manv\n",
    "\n",
    "\n",
    "Following up, the **voie** variable (road id) has more than a thousand possible values. This is huge and it seems reasonable to think model will struggle to cope with that. Hence the suppresion. Same thing for the **dep** variable (region)."
   ]
  },
  {
   "cell_type": "code",
   "execution_count": 14,
   "metadata": {},
   "outputs": [],
   "source": [
    "df = df.drop(['voie'], 1)\n",
    "df = df.drop(['dep'], 1)"
   ]
  },
  {
   "cell_type": "markdown",
   "metadata": {},
   "source": [
    "### C. Variable creation\n",
    "The class variable will be produced from the **grav** variable. As said before, **we will set it to 1 if the severity of the accident is lethal (value=2) and to 0 otherwise (value=1,3,4)**. We will then drop the grav variable.\n",
    "\n",
    "Plotting the value counts of the grav variable, we see that **lethal accidents are underrepresented** (which makes sense as most of the accidents are not lethal). As explained before, **this can reduce the precision of the model when it will have to predict a positive class (lethal)**. We can either let the algorithm do the work by itself (but help it by choosing an appropriate scoring method and prioritize confusion matrix over accuracy), or help it by resampling, i.e. making the training set have an equal representation of lethal and non lethal accidents."
   ]
  },
  {
   "cell_type": "code",
   "execution_count": 15,
   "metadata": {},
   "outputs": [
    {
     "data": {
      "text/plain": [
       "<matplotlib.axes._subplots.AxesSubplot at 0x1b88ac507f0>"
      ]
     },
     "execution_count": 15,
     "metadata": {},
     "output_type": "execute_result"
    },
    {
     "data": {
      "image/png": "[encoded data removed]",
      "text/plain": [
       "<Figure size 504x504 with 1 Axes>"
      ]
     },
     "metadata": {},
     "output_type": "display_data"
    }
   ],
   "source": [
    "df.grav.value_counts().plot(kind='pie', figsize=(7, 7))"
   ]
  },
  {
   "cell_type": "code",
   "execution_count": 16,
   "metadata": {},
   "outputs": [
    {
     "data": {
      "text/plain": [
       "count    248406.000000\n",
       "mean          0.021791\n",
       "std           0.146001\n",
       "min           0.000000\n",
       "25%           0.000000\n",
       "50%           0.000000\n",
       "75%           0.000000\n",
       "max           1.000000\n",
       "Name: lethal, dtype: float64"
      ]
     },
     "execution_count": 16,
     "metadata": {},
     "output_type": "execute_result"
    }
   ],
   "source": [
    "def generateClass (row):\n",
    "    if row['grav'] == '1' or row['grav'] == '4' or row['grav'] == '3':\n",
    "        return 0 # non lethal\n",
    "    return 1 # lethal\n",
    "\n",
    "# create new column for class variable and attach it to the frame\n",
    "# axis=1 specifier means that the application is done at a row rather than a column level\n",
    "df['lethal'] = df.apply(lambda row: generateClass(row), axis=1) \n",
    "\n",
    "# drop the grav variable\n",
    "df = df.drop(['grav'], 1)\n",
    "\n",
    "df['lethal'].describe()"
   ]
  },
  {
   "cell_type": "markdown",
   "metadata": {},
   "source": [
    "## 3. Exploratory data analysis & Descriptive statistics\n",
    "\n",
    "### 1. Univariate analysis (variable's value distribution)\n",
    "\n",
    "In this part, we will explore variable one by one. We have to keep in mind that only looking at one variable at a time might not give us enough insight to understand the dataset and relation between variables. This is where Bivariate (and multivariate) analysis come to the rescue.\n",
    "\n",
    "\n",
    "The method differs whether the variable is catgeorical or numerical. We have a lot of variables and most of them are categorical. We will not make a thorough analysis on each, but categorical variable can be easily explored with a pie chart.\n",
    "\n",
    "We can explore the value range of a numeric variable with these tools:\n",
    "\n",
    "| Tool | Visualization |\n",
    "| :-:  | :-: |\n",
    "| central value| box plot |\n",
    "| dispersion| histogram |\n",
    "\n",
    "**The first one to consider is the shape**, because the other indicators will only make sense on unimodal distribution (one single peak). Computing the mean or the variance without looking at the data distribution can be misleading. Many choices of indicator pairs exist to explore the distribution:\n",
    "\n",
    "|   -  | Central value | Dispersion | Drawback | Advantage |\n",
    "| :-:  | :-: | :-: | :-: | :-: |\n",
    "| Choice A | mode | interquartile range | unstable | - |\n",
    "| Choice B | median | range | few properties | robust to extreme values & good for asymmetrical distribution |\n",
    "| Choice C| mean | variance | sensible to extreme values | many properties & often used |\n",
    "\n",
    "Let us plot our numerical variables and see if it makes sense to compute their mean and variance."
   ]
  },
  {
   "cell_type": "code",
   "execution_count": 17,
   "metadata": {},
   "outputs": [
    {
     "data": {
      "text/plain": [
       "place       object\n",
       "catu        object\n",
       "sexe        object\n",
       "trajet      object\n",
       "secu        object\n",
       "an_nais    float64\n",
       "catv        object\n",
       "occutc       int64\n",
       "obs         object\n",
       "obsm        object\n",
       "choc        object\n",
       "manv        object\n",
       "catr        object\n",
       "circ        object\n",
       "nbv        float64\n",
       "prof        object\n",
       "plan        object\n",
       "surf        object\n",
       "infra       object\n",
       "situ        object\n",
       "env1        object\n",
       "mois        object\n",
       "hrmn         int64\n",
       "lum         object\n",
       "agg         object\n",
       "int         object\n",
       "atm         object\n",
       "col         object\n",
       "lethal       int64\n",
       "dtype: object"
      ]
     },
     "execution_count": 17,
     "metadata": {},
     "output_type": "execute_result"
    }
   ],
   "source": [
    "df.dtypes # which variables are categorical and which are numerical?"
   ]
  },
  {
   "cell_type": "code",
   "execution_count": 18,
   "metadata": {},
   "outputs": [
    {
     "data": {
      "text/plain": [
       "<matplotlib.axes._subplots.AxesSubplot at 0x1b8846aaf28>"
      ]
     },
     "execution_count": 18,
     "metadata": {},
     "output_type": "execute_result"
    },
    {
     "data": {
      "image/png": "[encoded data removed]",
      "text/plain": [
       "<Figure size 432x288 with 1 Axes>"
      ]
     },
     "metadata": {
      "needs_background": "light"
     },
     "output_type": "display_data"
    }
   ],
   "source": [
    "df.an_nais.plot.hist(bins=100, alpha=0.75) # uses many bins to have a precise look at the distribution (birth year)"
   ]
  },
  {
   "cell_type": "code",
   "execution_count": 19,
   "metadata": {},
   "outputs": [
    {
     "data": {
      "text/plain": [
       "<matplotlib.axes._subplots.AxesSubplot at 0x1b88ac22da0>"
      ]
     },
     "execution_count": 19,
     "metadata": {},
     "output_type": "execute_result"
    },
    {
     "data": {
      "image/png": "[encoded data removed]",
      "text/plain": [
       "<Figure size 432x288 with 1 Axes>"
      ]
     },
     "metadata": {
      "needs_background": "light"
     },
     "output_type": "display_data"
    }
   ],
   "source": [
    "df.boxplot(column=['an_nais']) # birth year"
   ]
  },
  {
   "cell_type": "code",
   "execution_count": 20,
   "metadata": {},
   "outputs": [
    {
     "data": {
      "text/plain": [
       "count    248352.000000\n",
       "mean       1979.360299\n",
       "std          18.271537\n",
       "min        1911.000000\n",
       "25%        1967.000000\n",
       "50%        1982.000000\n",
       "75%        1994.000000\n",
       "max        2018.000000\n",
       "Name: an_nais, dtype: float64"
      ]
     },
     "execution_count": 20,
     "metadata": {},
     "output_type": "execute_result"
    }
   ],
   "source": [
    "df[\"an_nais\"].describe()\n",
    "#df[\"an_nais\"].var()\n",
    "#df[\"an_nais\"].median()"
   ]
  },
  {
   "cell_type": "markdown",
   "metadata": {},
   "source": [
    "From the histogram plot perspective, the data distribution looks **unimodal** (though there exist some methods to rigorously check that), so it makes sense to compute the mean and the variance. The mean is 1979 (41 years old in 2020). **The distribution is asymmetrical, with a negative skew (points go to the negative direction on the left).** This explains why the mean and the median are slightly different. Indeed, it makes sense that the mean is lower than the median in a negatively skewed dataset (respectively 1979 and 1982).\n",
    "\n",
    "**When a variable is significantly skewed, it may not be suited for statistical analysis**. This is why we may need to transform its value later on to make it compatible with algorithms using such statistics. An example would be to standardize this variable to make it suited for k-means. \n",
    "\n",
    "The variance is 333. Another way to look at the variance is to look at the standard deviation (square root of the variance). It is roughly 18. We can also look at the histogram plot: the spreader it is, the higher the standard deviation is.\n",
    "\n",
    "As a rule of thumb, we can compute the coefficient of variation (CV) to make sense of standard deviation:\n",
    "\n",
    "CV = deviation/mean\n",
    "\n",
    "CV = 18.27.../(2018-1979.36...)\n",
    "\n",
    "CV = 0.46...\n",
    "\n",
    "CV < 1\n",
    "\n",
    "So we can consider it a low standard variation: individuals are relatively close to the mean, age speaking.\n",
    "\n",
    "\n",
    "The same goes for the other numeric variables."
   ]
  },
  {
   "cell_type": "code",
   "execution_count": 21,
   "metadata": {},
   "outputs": [
    {
     "data": {
      "text/plain": [
       "<matplotlib.axes._subplots.AxesSubplot at 0x1b88abfbeb8>"
      ]
     },
     "execution_count": 21,
     "metadata": {},
     "output_type": "execute_result"
    },
    {
     "data": {
      "image/png": "[encoded data removed]",
      "text/plain": [
       "<Figure size 432x288 with 1 Axes>"
      ]
     },
     "metadata": {
      "needs_background": "light"
     },
     "output_type": "display_data"
    }
   ],
   "source": [
    "df.boxplot(column=['occutc']) # number of people in the public transit vehicle"
   ]
  },
  {
   "cell_type": "code",
   "execution_count": 22,
   "metadata": {},
   "outputs": [
    {
     "data": {
      "text/plain": [
       "<matplotlib.axes._subplots.AxesSubplot at 0x1b88abdbf98>"
      ]
     },
     "execution_count": 22,
     "metadata": {},
     "output_type": "execute_result"
    },
    {
     "data": {
      "image/png": "[encoded data removed]",
      "text/plain": [
       "<Figure size 432x288 with 1 Axes>"
      ]
     },
     "metadata": {
      "needs_background": "light"
     },
     "output_type": "display_data"
    }
   ],
   "source": [
    "df.occutc.plot.hist(bins=100, alpha=0.75) # number of people in the public transit vehicle"
   ]
  },
  {
   "cell_type": "code",
   "execution_count": 23,
   "metadata": {},
   "outputs": [
    {
     "data": {
      "text/plain": [
       "0      245366\n",
       "1         879\n",
       "10        193\n",
       "50        135\n",
       "2         133\n",
       "        ...  \n",
       "39          2\n",
       "59          2\n",
       "48          2\n",
       "180         2\n",
       "120         2\n",
       "Name: occutc, Length: 79, dtype: int64"
      ]
     },
     "execution_count": 23,
     "metadata": {},
     "output_type": "execute_result"
    }
   ],
   "source": [
    "df['occutc'].describe() # number of people in the public transit vehicle\n",
    "df.occutc.value_counts() # number of people in the public transit vehicle"
   ]
  },
  {
   "cell_type": "markdown",
   "metadata": {},
   "source": [
    "Here we have an extreme example of an unbalanced data distribution. What happens is that most of the accidents do not concern public transit. So **occutc** values 0. But when it does concern public transit, this number is high due to the very nature of public transit. We will have to address the uneven distribution later. We can also question the usefulness of this variable."
   ]
  },
  {
   "cell_type": "code",
   "execution_count": 24,
   "metadata": {},
   "outputs": [
    {
     "data": {
      "text/plain": [
       "<matplotlib.axes._subplots.AxesSubplot at 0x1b88aba4a20>"
      ]
     },
     "execution_count": 24,
     "metadata": {},
     "output_type": "execute_result"
    },
    {
     "data": {
      "image/png": "[encoded data removed]",
      "text/plain": [
       "<Figure size 432x288 with 1 Axes>"
      ]
     },
     "metadata": {
      "needs_background": "light"
     },
     "output_type": "display_data"
    }
   ],
   "source": [
    "df.nbv.plot.hist(bins=100, alpha=0.75) # number of lanes on the road"
   ]
  },
  {
   "cell_type": "code",
   "execution_count": 25,
   "metadata": {},
   "outputs": [
    {
     "data": {
      "text/plain": [
       "<matplotlib.axes._subplots.AxesSubplot at 0x1b88ab6e7b8>"
      ]
     },
     "execution_count": 25,
     "metadata": {},
     "output_type": "execute_result"
    },
    {
     "data": {
      "image/png": "[encoded data removed]",
      "text/plain": [
       "<Figure size 432x288 with 1 Axes>"
      ]
     },
     "metadata": {
      "needs_background": "light"
     },
     "output_type": "display_data"
    }
   ],
   "source": [
    "df.boxplot(column=['occutc']) # number of lanes on the road"
   ]
  },
  {
   "cell_type": "code",
   "execution_count": 26,
   "metadata": {},
   "outputs": [
    {
     "data": {
      "text/plain": [
       "count    248406.000000\n",
       "mean          0.243291\n",
       "std           4.211869\n",
       "min           0.000000\n",
       "25%           0.000000\n",
       "50%           0.000000\n",
       "75%           0.000000\n",
       "max         900.000000\n",
       "Name: occutc, dtype: float64"
      ]
     },
     "execution_count": 26,
     "metadata": {},
     "output_type": "execute_result"
    }
   ],
   "source": [
    "df['occutc'].describe() # number of lanes on the road"
   ]
  },
  {
   "cell_type": "code",
   "execution_count": 27,
   "metadata": {},
   "outputs": [
    {
     "data": {
      "text/plain": [
       "<matplotlib.axes._subplots.AxesSubplot at 0x1b88ab4ec50>"
      ]
     },
     "execution_count": 27,
     "metadata": {},
     "output_type": "execute_result"
    },
    {
     "data": {
      "image/png": "[encoded data removed]",
      "text/plain": [
       "<Figure size 432x288 with 1 Axes>"
      ]
     },
     "metadata": {
      "needs_background": "light"
     },
     "output_type": "display_data"
    }
   ],
   "source": [
    "df.hrmn.plot.hist(bins=100, alpha=0.75) # time of the accident on 24 hours (hoursminutes)"
   ]
  },
  {
   "cell_type": "code",
   "execution_count": 28,
   "metadata": {},
   "outputs": [
    {
     "data": {
      "text/plain": [
       "<matplotlib.axes._subplots.AxesSubplot at 0x1b88ab17b38>"
      ]
     },
     "execution_count": 28,
     "metadata": {},
     "output_type": "execute_result"
    },
    {
     "data": {
      "image/png": "[encoded data removed]",
      "text/plain": [
       "<Figure size 432x288 with 1 Axes>"
      ]
     },
     "metadata": {
      "needs_background": "light"
     },
     "output_type": "display_data"
    }
   ],
   "source": [
    "df.boxplot(column=['hrmn']) # time of the accident on 24 hours (hoursminutes)"
   ]
  },
  {
   "cell_type": "code",
   "execution_count": 29,
   "metadata": {},
   "outputs": [
    {
     "data": {
      "text/plain": [
       "<matplotlib.axes._subplots.AxesSubplot at 0x1b88ab0d128>"
      ]
     },
     "execution_count": 29,
     "metadata": {},
     "output_type": "execute_result"
    },
    {
     "data": {
      "image/png": "[encoded data removed]",
      "text/plain": [
       "<Figure size 432x288 with 1 Axes>"
      ]
     },
     "metadata": {
      "needs_background": "light"
     },
     "output_type": "display_data"
    }
   ],
   "source": [
    "df.lethal.plot.hist(bins=100, alpha=0.75) # lethality of the accident (the class we will try to predict)"
   ]
  },
  {
   "cell_type": "code",
   "execution_count": 30,
   "metadata": {},
   "outputs": [
    {
     "data": {
      "text/plain": [
       "<matplotlib.axes._subplots.AxesSubplot at 0x1b88ab09860>"
      ]
     },
     "execution_count": 30,
     "metadata": {},
     "output_type": "execute_result"
    },
    {
     "data": {
      "image/png": "[encoded data removed]",
      "text/plain": [
       "<Figure size 432x288 with 1 Axes>"
      ]
     },
     "metadata": {
      "needs_background": "light"
     },
     "output_type": "display_data"
    }
   ],
   "source": [
    "df.boxplot(column=['lethal']) # lethality of the accident (the class we will try to predict)"
   ]
  },
  {
   "cell_type": "markdown",
   "metadata": {},
   "source": [
    "**As seen before, the lethal accidents are underrepresented, and this can negatively impact future models**.\n",
    "\n",
    "### 2. Bivariate analysis (variable dependence)\n",
    "\n",
    "This step is crucial, **because identifying that the relation between a predictor variable and the target variable is linear would allow us to use a simple linear model to make a class prediction. On the contrary, nonlinear relationship would require us to use a non-linear model to get the best performance**. Anyway, it is recommended to start with a simple linear model first and only jump to a more complex or nonlinear one if it does not yield sufficient results.\n",
    "\n",
    "We also talked about how we should try to remove predictor variable that are not correlated to the target variable. Univariate analysis can be naive for this purpose. The fact that the univariate correlation between a predictor variable and the target variable is low does not necessarily mean this predictor variable is useless: a predictor variable combined with other predictor variables could have a significant correlation with the target variable.\n",
    "\n",
    "Also, detecting correlation in between predictor variables means that a simpler (better) model with fewer feature can exist. This is where we could use dimensionality reduction like PCA or Autoencoders, or feature selection like RFE."
   ]
  },
  {
   "cell_type": "code",
   "execution_count": 31,
   "metadata": {},
   "outputs": [],
   "source": [
    "#we can start by visualizing relationships between numerical variables\n",
    "#but in our our case it does not really make sense to compare those variables are they do not seem related\n",
    "#from pandas.plotting import scatter_matrix\n",
    "#import matplotlib.pyplot as plt\n",
    "#numericVariables = pd.DataFrame(df,columns=['an_nais','occutc','nbv','hrmn','lethal'])\n",
    "#numericVariables = pd.DataFrame(df,columns=['an_nais','occutc','nbv'])\n",
    "#scatter_matrix(numericVariables, figsize=(10,10))\n",
    "#plt.show()"
   ]
  },
  {
   "cell_type": "code",
   "execution_count": 32,
   "metadata": {},
   "outputs": [
    {
     "data": {
      "image/png": "[encoded data removed]",
      "text/plain": [
       "<Figure size 432x288 with 2 Axes>"
      ]
     },
     "metadata": {
      "needs_background": "light"
     },
     "output_type": "display_data"
    }
   ],
   "source": [
    "import seaborn as sn\n",
    "import matplotlib.pyplot as plt\n",
    "\n",
    "# we can then confirm our hypothesis using statistic tools\n",
    "\n",
    "numericVariables = pd.DataFrame(df,columns=['an_nais','occutc','nbv','hrmn','lethal'])\n",
    "corrMatrix = numericVariables.corr(method='pearson') # linear relationships\n",
    "\n",
    "sn.heatmap(corrMatrix, annot=True)\n",
    "plt.show()"
   ]
  },
  {
   "cell_type": "code",
   "execution_count": 33,
   "metadata": {},
   "outputs": [
    {
     "data": {
      "image/png": "[encoded data removed]",
      "text/plain": [
       "<Figure size 432x288 with 2 Axes>"
      ]
     },
     "metadata": {
      "needs_background": "light"
     },
     "output_type": "display_data"
    }
   ],
   "source": [
    "numericVariables = pd.DataFrame(df,columns=['an_nais','occutc','nbv','hrmn','lethal'])\n",
    "corrMatrix = numericVariables.corr(method='spearman') # monotonic relationships\n",
    "\n",
    "sn.heatmap(corrMatrix, annot=True)\n",
    "plt.show()"
   ]
  },
  {
   "cell_type": "markdown",
   "metadata": {},
   "source": [
    "It seems that there is no strong bivariate relationship between our numeric variables. \n",
    "\n",
    "Let us examine relationships between categorical predictor variables and the target variable.\n",
    "\n",
    "**We will show only the most interesting variables, i.e. the ones that are correlated with death during an accident.**"
   ]
  },
  {
   "cell_type": "code",
   "execution_count": 34,
   "metadata": {},
   "outputs": [
    {
     "name": "stdout",
     "output_type": "stream",
     "text": [
      "lethal       0     1\n",
      "lum                 \n",
      "1       166991  3274\n",
      "2        15907   383\n",
      "3        23208  1289\n",
      "4         2126    53\n",
      "5        34761   414\n"
     ]
    }
   ],
   "source": [
    "from scipy.stats import chi2_contingency\n",
    "from scipy.stats import chi2\n",
    "import numpy as np\n",
    "\n",
    "# must pass data to a contingency table first\n",
    "\n",
    "# lighting conditions\n",
    "crosstab = pd.crosstab(df['lum'], df['lethal']) \n",
    "print(crosstab)\n",
    "stat, p, dof, expected = chi2_contingency(crosstab)\n",
    "# we can reject the null hypothesis if the p-value is less than 0.05, and say there is no correlation"
   ]
  },
  {
   "cell_type": "markdown",
   "metadata": {},
   "source": [
    "The null hypothesis put aside, we can see something really interesting when diving into the contingency table. It may not be obvious as the categorical variable is nominal and unordered. But if we have a look a the data description, we can try to make it an ordinal variable. The **lum** variable is about the road lighting. **If we compute the ratios of the number of death by accidents for each type of light condition, we see that the darker it is, the deadliest the accidents are.**\n",
    "\n",
    "As to why there is less death at night whith lighting, the reason may be that those condtions appear in a city environment, where the speed is restricted so collisions are less violent.\n",
    "\n",
    "* MORE LETHAL\n",
    "* 3 (at night without public lighting) &rarr; 18\n",
    "* 4 (at night with public lighting unlit) &rarr; 40\n",
    "* 2 (dusk or dawn) &rarr; 41\n",
    "* 1 (daylight) &rarr; 51\n",
    "* 5 (at night with public lighting lit) &rarr; 84\n",
    "* LESS LETHAL\n",
    "\n"
   ]
  },
  {
   "cell_type": "code",
   "execution_count": 35,
   "metadata": {},
   "outputs": [
    {
     "name": "stdout",
     "output_type": "stream",
     "text": [
      "lethal       0     1\n",
      "secu                \n",
      "0.0      82615  2983\n",
      "11.0    158140  2155\n",
      "12.0      2238   275\n"
     ]
    }
   ],
   "source": [
    "# was the belt (11) fastened or not(12)?\n",
    "crosstab = pd.crosstab(df['secu'], df['lethal'])\n",
    "print(crosstab)\n",
    "stat, p, dof, expected = chi2_contingency(crosstab)"
   ]
  },
  {
   "cell_type": "markdown",
   "metadata": {},
   "source": [
    "**Not wearing a seatbelt is correlated with a 10 times higher risk of death in an accident!**"
   ]
  },
  {
   "cell_type": "code",
   "execution_count": 36,
   "metadata": {},
   "outputs": [
    {
     "name": "stdout",
     "output_type": "stream",
     "text": [
      "1: 50.0\n",
      "10: 57.0\n",
      "13: 37.0\n",
      "14: 15.0\n",
      "15: 15.0\n",
      "16: 29.0\n",
      "17: 15.0\n",
      "2: 64.0\n",
      "20: 22.0\n",
      "21: 10.0\n",
      "3: 24.0\n",
      "30: 147.0\n",
      "32: 75.0\n",
      "34: 33.0\n",
      "35: 52.0\n",
      "36: 24.0\n",
      "37: 67.0\n",
      "39: 4.0\n",
      "40: 79.0\n",
      "7: 48.0\n",
      "99: 61.0\n"
     ]
    }
   ],
   "source": [
    "# type of vehicle\n",
    "crosstab = pd.crosstab(df['catv'], df['lethal'])\n",
    "stat, p, dof, expected = chi2_contingency(crosstab)\n",
    "for i in range(len(crosstab[0])): # print ratios\n",
    "    print(str(crosstab[0].index.values[i]) + \": \" + str(round(crosstab[0][i]/crosstab[1][i],0)))"
   ]
  },
  {
   "cell_type": "markdown",
   "metadata": {},
   "source": [
    "**Vehicle type ordered by death per accident ratio:**\n",
    "\n",
    "\n",
    "1. Train\n",
    "2. Farm tractor\n",
    "3. Vehicle weighing more than 7.5T OR more than 3.5T with a trailer OR tractor with trailer\n",
    "\n",
    "On the contrary, small scooter (motor < 50cm3) are the less correlated with death. But for motorbike, the bigger the engine is, the deadliest the outcome of the accident is.\n",
    "\n",
    "**It does not mean that train transportation is unsafe, but that accidents involving trains are the most correlated with death**."
   ]
  },
  {
   "cell_type": "code",
   "execution_count": 37,
   "metadata": {},
   "outputs": [
    {
     "name": "stdout",
     "output_type": "stream",
     "text": [
      "0.0: 54.0\n",
      "1.0: 51.0\n",
      "10.0: 28.0\n",
      "11.0: 21.0\n",
      "12.0: 25.0\n",
      "13.0: 13.0\n",
      "14.0: 42.0\n",
      "15.0: 17.0\n",
      "16.0: 17.0\n",
      "2.0: 7.0\n",
      "3.0: 20.0\n",
      "4.0: 43.0\n",
      "5.0: 14.0\n",
      "6.0: 14.0\n",
      "7.0: 19.0\n",
      "8.0: 14.0\n",
      "9.0: 47.0\n",
      "nan: 40.0\n"
     ]
    }
   ],
   "source": [
    "# obstacle hit\n",
    "crosstab = pd.crosstab(df['obs'], df['lethal'])\n",
    "for i in range(len(crosstab[0])): # print ratios\n",
    "    print(str(crosstab[0].index.values[i]) + \": \" + str(round(crosstab[0][i]/crosstab[1][i],0)))"
   ]
  },
  {
   "cell_type": "markdown",
   "metadata": {},
   "source": [
    "***Beware of the trees***"
   ]
  },
  {
   "cell_type": "code",
   "execution_count": 38,
   "metadata": {},
   "outputs": [
    {
     "name": "stdout",
     "output_type": "stream",
     "text": [
      "1: 46.0\n",
      "2: 55.0\n",
      "3: 19.0\n"
     ]
    }
   ],
   "source": [
    "# whether the person is a driver (1), passenger (2), or pedestrian (3)\n",
    "crosstab = pd.crosstab(df['catu'], df['lethal'])\n",
    "for i in range(len(crosstab[0])): # print ratios\n",
    "    print(str(crosstab[0].index.values[i]) + \": \" + str(round(crosstab[0][i]/crosstab[1][i],0)))"
   ]
  },
  {
   "cell_type": "code",
   "execution_count": 39,
   "metadata": {},
   "outputs": [
    {
     "name": "stdout",
     "output_type": "stream",
     "text": [
      "1: 25.0\n",
      "2: 102.0\n"
     ]
    }
   ],
   "source": [
    "# was the accident out of the city (1) or in the city (2)\n",
    "crosstab = pd.crosstab(df['agg'], df['lethal'])\n",
    "for i in range(len(crosstab[0])): # print ratios\n",
    "    print(str(crosstab[0].index.values[i]) + \": \" + str(round(crosstab[0][i]/crosstab[1][i],0)))"
   ]
  },
  {
   "cell_type": "code",
   "execution_count": 40,
   "metadata": {},
   "outputs": [
    {
     "name": "stdout",
     "output_type": "stream",
     "text": [
      "1: 38.0\n",
      "2: 79.0\n",
      "3: 66.0\n",
      "4: 70.0\n",
      "5: 55.0\n",
      "6: 76.0\n",
      "7: 187.0\n",
      "8: 7.0\n",
      "9: 65.0\n"
     ]
    }
   ],
   "source": [
    "crosstab = pd.crosstab(df['int'], df['lethal']) # the place where the accident happend\n",
    "for i in range(len(crosstab[0])): # print ratios\n",
    "    print(str(crosstab[0].index.values[i]) + \": \" + str(round(crosstab[0][i]/crosstab[1][i],0)))"
   ]
  },
  {
   "cell_type": "markdown",
   "metadata": {},
   "source": [
    "**Interesting: the zebra crossing (8) is the most correlated with death. And previously, we saw that pedestrian are also more correlated with death. Zebra crossing involves pedestrian, so it seems that those variables are dependant.**"
   ]
  },
  {
   "cell_type": "code",
   "execution_count": 41,
   "metadata": {},
   "outputs": [
    {
     "name": "stdout",
     "output_type": "stream",
     "text": [
      "0.0: 34.0\n",
      "1.0: 38.0\n",
      "2.0: 44.0\n",
      "3.0: 37.0\n",
      "4.0: 144.0\n",
      "5.0: 83.0\n",
      "6.0: 71.0\n",
      "7.0: 44.0\n",
      "8.0: 47.0\n",
      "9.0: 21.0\n",
      "nan: 46.0\n"
     ]
    }
   ],
   "source": [
    "crosstab = pd.crosstab(df['choc'], df['lethal']) # the type of collision\n",
    "for i in range(len(crosstab[0])): # print ratios\n",
    "    print(str(crosstab[0].index.values[i]) + \": \" + str(round(crosstab[0][i]/crosstab[1][i],0)))"
   ]
  },
  {
   "cell_type": "markdown",
   "metadata": {},
   "source": [
    "**Not surprisingly, multiple impacts and car rollovers (9) are the most correlated with death**.\n",
    "Rear end collisions are the less deadly."
   ]
  },
  {
   "cell_type": "code",
   "execution_count": 42,
   "metadata": {},
   "outputs": [
    {
     "name": "stdout",
     "output_type": "stream",
     "text": [
      "0.0: 40.0\n",
      "1.0: 36.0\n",
      "10.0: 62.0\n",
      "11.0: 75.0\n",
      "12.0: 151.0\n",
      "13.0: 17.0\n",
      "14.0: 20.0\n",
      "15.0: 83.0\n",
      "16.0: 100.0\n",
      "17.0: 43.0\n",
      "18.0: 83.0\n",
      "19.0: 45.0\n",
      "2.0: 113.0\n",
      "20.0: 163.0\n",
      "21.0: 40.0\n",
      "22.0: 300.0\n",
      "23.0: 111.0\n",
      "24.0: 65.0\n",
      "3.0: 123.0\n",
      "4.0: 43.0\n",
      "5.0: 25.0\n",
      "6.0: 20.0\n",
      "7.0: 454.0\n",
      "8.0: 228.0\n",
      "9.0: 117.0\n",
      "nan: 47.0\n"
     ]
    }
   ],
   "source": [
    "crosstab = pd.crosstab(df['manv'], df['lethal']) # the type of maneuver\n",
    "for i in range(len(crosstab[0])): # print ratios\n",
    "    print(str(crosstab[0].index.values[i]) + \": \" + str(round(crosstab[0][i]/crosstab[1][i],0)))"
   ]
  },
  {
   "cell_type": "markdown",
   "metadata": {},
   "source": [
    "**in order: Driving away on left (13) and right (14), then crossing the central reservation (6) and driving the wrong way (5) are the most correlated with death.**"
   ]
  },
  {
   "cell_type": "code",
   "execution_count": 43,
   "metadata": {},
   "outputs": [
    {
     "name": "stdout",
     "output_type": "stream",
     "text": [
      "0.0: 76.0\n",
      "1.0: 119.0\n",
      "2.0: 33.0\n",
      "3.0: 70.0\n",
      "4.0: 110.0\n",
      "nan: 65.0\n"
     ]
    }
   ],
   "source": [
    "crosstab = pd.crosstab(df['circ'], df['lethal']) # the type of road traffic\n",
    "for i in range(len(crosstab[0])): # print ratios\n",
    "    print(str(crosstab[0].index.values[i]) + \": \" + str(round(crosstab[0][i]/crosstab[1][i],0)))"
   ]
  },
  {
   "cell_type": "markdown",
   "metadata": {},
   "source": [
    "**As we might expect, two-way roads are more correlated with death**."
   ]
  },
  {
   "cell_type": "code",
   "execution_count": 44,
   "metadata": {},
   "outputs": [
    {
     "name": "stdout",
     "output_type": "stream",
     "text": [
      "0.0: 129.0\n",
      "1.0: 53.0\n",
      "2.0: 25.0\n",
      "3.0: 23.0\n",
      "4.0: 31.0\n",
      "nan: 51.0\n"
     ]
    }
   ],
   "source": [
    "crosstab = pd.crosstab(df['plan'], df['lethal']) # the road layout\n",
    "for i in range(len(crosstab[0])): # print ratios\n",
    "    print(str(crosstab[0].index.values[i]) + \": \" + str(round(crosstab[0][i]/crosstab[1][i],0)))"
   ]
  },
  {
   "cell_type": "markdown",
   "metadata": {},
   "source": [
    "**The road layout (*plan* variable) is interesting. Curves (2,3,4) look two times more deadly than a straight line (1)**. We can binarize this variable to make it easier for future models."
   ]
  },
  {
   "cell_type": "code",
   "execution_count": 45,
   "metadata": {},
   "outputs": [],
   "source": [
    "# binarize into a curve or not a curve\n",
    "for index, row in df.iterrows():\n",
    "    if row.plan == '2.0' or row.plan == '3.0': # curve\n",
    "        df.at[index,'plan'] = '4.0'"
   ]
  },
  {
   "cell_type": "code",
   "execution_count": 46,
   "metadata": {},
   "outputs": [
    {
     "name": "stdout",
     "output_type": "stream",
     "text": [
      "0.0: 129.0\n",
      "1.0: 53.0\n",
      "4.0: 25.0\n",
      "nan: 51.0\n"
     ]
    }
   ],
   "source": [
    "# check the result\n",
    "crosstab = pd.crosstab(df['plan'], df['lethal']) # the road layout\n",
    "for i in range(len(crosstab[0])): # print ratios\n",
    "    print(str(crosstab[0].index.values[i]) + \": \" + str(round(crosstab[0][i]/crosstab[1][i],0)))"
   ]
  },
  {
   "cell_type": "code",
   "execution_count": 47,
   "metadata": {},
   "outputs": [
    {
     "name": "stdout",
     "output_type": "stream",
     "text": [
      "0.0: 103.0\n",
      "1.0: 45.0\n",
      "2.0: 45.0\n",
      "3.0: 52.0\n",
      "4.0: 29.0\n",
      "5.0: 38.0\n",
      "6.0: 23.0\n",
      "7.0: 19.0\n",
      "8.0: 34.0\n",
      "9.0: 24.0\n",
      "nan: 55.0\n"
     ]
    }
   ],
   "source": [
    "crosstab = pd.crosstab(df['surf'], df['lethal']) # the road layout\n",
    "for i in range(len(crosstab[0])): # print ratios\n",
    "    print(str(crosstab[0].index.values[i]) + \": \" + str(round(crosstab[0][i]/crosstab[1][i],0)))"
   ]
  },
  {
   "cell_type": "markdown",
   "metadata": {},
   "source": [
    "---\n",
    "\n",
    "After having performed a bivariate analysis on each variable, we have more intel on which variables might be useless. But this might be misleading, as there may be more complex relationshipsthat only multivariate analysis would reveal. Anyway, we will not do that here.\n",
    "\n",
    "Some predictor variables are removed because it seems they are not related to the target variable:\n",
    "\n",
    "* mois (month)\n",
    "* sexe (gender)\n",
    "* hrmn (time of the accident)\n",
    "* env1 (school nearby)\n",
    "* prof (road profile)\n",
    "* surf (the road condition)\n",
    "\n",
    "Some variables are removed because it seems they are correlated to other predictor variables and they do not give more information than we we already have:\n",
    "\n",
    "* obsm (mobile obstacle hit, correlated to the person and the place of the accident)\n",
    "* occutc (number of people in the vehicle, correlated to the type of vehicle)\n",
    "* nbv (number of lanes, correlated to the type of road)"
   ]
  },
  {
   "cell_type": "code",
   "execution_count": 48,
   "metadata": {},
   "outputs": [],
   "source": [
    "df = df.drop(['mois'], 1)\n",
    "df = df.drop(['sexe'], 1)\n",
    "df = df.drop(['hrmn'], 1)\n",
    "df = df.drop(['env1'], 1)\n",
    "df = df.drop(['prof'], 1)\n",
    "df = df.drop(['surf'], 1)\n",
    "df = df.drop(['obsm'], 1)\n",
    "df = df.drop(['occutc'], 1)\n",
    "df = df.drop(['nbv'], 1)"
   ]
  },
  {
   "cell_type": "markdown",
   "metadata": {},
   "source": [
    "## 4. Data preparation part II\n",
    "\n",
    "### A. Missing and erroneous values\n",
    "\n",
    "There are two kind of bad values we have to deal with:\n",
    "\n",
    "* Wrong values -> We hope to have detected and corrected them all in the exploratory analysis\n",
    "* Missing values -> We have to transform them because many algorithms can't work with them (linear regression, k-means...)\n",
    "\n",
    "**We can also delete the rows (or variables) for which such values appear, but this is not recommended and the total number of deleted rows must be less than 2% of the total rows in the data set.**\n",
    "\n",
    "#### A.1. Method A: Statistically impute values (replace with a correct value)\n",
    "\n",
    "One way to do that is to use simple or multiple imputation:\n",
    "\n",
    "* Simple imputation\n",
    "    * Replace with the mean or the mode (not good)\n",
    "    * Clustering and above method in each cluster (good)\n",
    "    * Generate a predictive model like random forest, KNN or multiple linear regresion (good)\n",
    " \n",
    "Simple imputation artificially reduces the diversity of the data. A solution is to introduce randomness with mutliple imputation. \n",
    ">The random component is important so that all missing values of a single variable are not all exactly equal. One example would be to use a regression equation to predict missing values, then add a random error term.\n",
    "\n",
    "* [Multiple imputation](https://www.theanalysisfactor.com/multiple-imputation-in-a-nutshell)\n",
    "\n",
    ">Multiple imputation is used to generate multiple datasets, perform statistical analysis on them, and average the results. Multiple imputation takes a simple imputation and adds to it a random value to try to restore randomness lost in the imputation process. Therefore, averaging multiple imputations before doing any statistical analysis on them just removes most of that restored randomness (by averaging) and gives a result close to simple imputation plus a small random error.\n",
    "\n",
    "#### A.2. Method B: Discretize numeric variables (if this a numeric variable)\n",
    "\n",
    "This is another option, but we will not use it in this project.\n",
    "\n",
    "___\n",
    "\n",
    "##### *The snake biting its tail.*\n",
    "\n",
    "For simplicity, we will use simple imputation to predict missing values. **The problem is that standard models for predicting missing values do not handle missing or *nan* values.** \n",
    "\n",
    "\n",
    "\n",
    "So what we can do is make a temporary simpler model than does not contain missing or *nan* values and use it to predict those missing values.\n",
    "\n",
    "\n",
    "\n"
   ]
  },
  {
   "cell_type": "code",
   "execution_count": 49,
   "metadata": {},
   "outputs": [
    {
     "data": {
      "text/plain": [
       "(248406, 20)"
      ]
     },
     "execution_count": 49,
     "metadata": {},
     "output_type": "execute_result"
    }
   ],
   "source": [
    "df.shape"
   ]
  },
  {
   "cell_type": "code",
   "execution_count": 50,
   "metadata": {},
   "outputs": [
    {
     "name": "stderr",
     "output_type": "stream",
     "text": [
      "C:\\Users\\loutouk\\Anaconda3\\lib\\site-packages\\pandas\\core\\ops\\array_ops.py:253: FutureWarning: elementwise comparison failed; returning scalar instead, but in the future will perform elementwise comparison\n",
      "  res_values = method(rvalues)\n"
     ]
    },
    {
     "data": {
      "text/plain": [
       "(233925, 20)"
      ]
     },
     "execution_count": 50,
     "metadata": {},
     "output_type": "execute_result"
    }
   ],
   "source": [
    "# we start by looking for missing values\n",
    "# categorical missing values are 'nan' and numerical missing values are nan\n",
    "# note that some missing values might not be revealed with this method\n",
    "\n",
    "tempDf = df.dropna() # drops numeric nan\n",
    "tempDf = tempDf[(tempDf!='nan').all(1)] # drops string nan\n",
    "tempDf.shape"
   ]
  },
  {
   "cell_type": "code",
   "execution_count": 51,
   "metadata": {},
   "outputs": [],
   "source": [
    "from sklearn.model_selection import train_test_split\n",
    "from sklearn.utils import shuffle\n",
    "\n",
    "# place variable is the one with the most missing values (10 000 +)\n",
    "# we will make a model to impute its missing values\n",
    "# all others represent less than 2% of the dataset and will be dropped\n",
    "\n",
    "X = tempDf.drop('place', axis=1)\n",
    "y = tempDf['place']\n",
    "X_train, X_test, y_train, y_test = train_test_split(X, y, test_size=0.33, random_state=42, shuffle=True)"
   ]
  },
  {
   "cell_type": "code",
   "execution_count": 52,
   "metadata": {},
   "outputs": [
    {
     "data": {
      "text/plain": [
       "1.0    188647\n",
       "2.0     28404\n",
       "3.0      4895\n",
       "4.0      4120\n",
       "9.0      2716\n",
       "7.0      2453\n",
       "8.0      1259\n",
       "5.0      1100\n",
       "6.0       331\n",
       "Name: place, dtype: int64"
      ]
     },
     "execution_count": 52,
     "metadata": {},
     "output_type": "execute_result"
    }
   ],
   "source": [
    "tempDf['place'].value_counts() # the value distribution could use resampling but we will manage without it"
   ]
  },
  {
   "cell_type": "code",
   "execution_count": 53,
   "metadata": {},
   "outputs": [
    {
     "name": "stdout",
     "output_type": "stream",
     "text": [
      "Precision:\t0.3870689352663787\n",
      "Recall:\t\t0.2993941587410217\n",
      "F-measure:\t0.3099127062893221\n"
     ]
    },
    {
     "data": {
      "image/png": "[encoded data removed]",
      "text/plain": [
       "<Figure size 648x648 with 2 Axes>"
      ]
     },
     "metadata": {
      "needs_background": "light"
     },
     "output_type": "display_data"
    }
   ],
   "source": [
    "from sklearn.tree import DecisionTreeClassifier\n",
    "from sklearn import metrics\n",
    "from sklearn.metrics import precision_recall_fscore_support\n",
    "\n",
    "# try to make predictions with a decision tree\n",
    "\n",
    "# there are tools to find optimal hyperparameters such as grid search\n",
    "# but those are overkill as this is only an intermediate step, we will not use that right now\n",
    "clf = DecisionTreeClassifier(max_depth=8) # set a max depth to reduce overfiting\n",
    "clf = clf.fit(X_train, y_train)\n",
    "\n",
    "y_true = np.array(y_test)\n",
    "y_pred = np.array(clf.predict(X_test))\n",
    "\n",
    "# we are interested with the macro parameter, because we want to check precision and recall\n",
    "# this is because the value distribution for y is unbalanced and we have not done some resampling\n",
    "# we want to have good precision and recall but avoid overfitting: need to find the optimal parameters\n",
    "\n",
    "# macro: calculate metrics for each label, and find their unweighted mean. This does not take label imbalance into account\n",
    "scores = precision_recall_fscore_support(y_true, y_pred, average='macro')\n",
    "print('Precision:\\t' + str(scores[0]))\n",
    "print('Recall:\\t\\t' + str(scores[1]))\n",
    "print('F-measure:\\t' + str(scores[2])) \n",
    "\n",
    "score = clf.score(X_test, y_test)\n",
    "cm = metrics.confusion_matrix(y_test, clf.predict(X_test))\n",
    "\n",
    "plt.figure(figsize=(9,9))\n",
    "sn.heatmap(cm, annot=True, fmt=\".3f\", linewidths=.5, square = True, cmap = 'Blues_r');\n",
    "plt.ylabel('Actual label');\n",
    "plt.xlabel('Predicted label');\n",
    "all_sample_title = 'Accuracy Score: {0}'.format(score)\n",
    "plt.title(all_sample_title, size = 15);"
   ]
  },
  {
   "cell_type": "markdown",
   "metadata": {},
   "source": [
    "After evaluating several models, it looks like decision tree classifier is the best one. As we said, we looked carefully at the confusion matrix, precision and recall because the unbalanced distribution in the variable's values incentivize the algorithm to output the most common value to have a better accuracy on average. Actually, because all this is done to impute value to a predictor variable, only accuracy really matters here. We just want to impute the good value **on average**.\n",
    "\n",
    "**It will be different when we will try to predict the target variable (is it a lethal accident?), we will trade accuracy for recall.** [We can compare it as cancer prediction: this is a **critical** and **sensible** prediction where we want to reduce false negatives](https://medium.com/techspace-usict/measuring-just-accuracy-is-not-enough-in-machine-learning-a-better-technique-is-required-e7199ac36856).\n",
    "\n",
    "* Precision: How much our model correctly classifies positives cases out of all actual positive cases\n",
    "* Recall: How much the model correctly predicts the positive cases out of the cases which the model predicts positive\n",
    "* F1-Score: A balance between precision and recall\n",
    "\n",
    ">Imagine that you made a model that always predicts cancer negative no matter what example you are gonna throw to it. This is a dangerous scenario because a patient with cancer will always gets prediction of not having a cancer with an accuracy of 90%.\n",
    "\n",
    "\n"
   ]
  },
  {
   "cell_type": "markdown",
   "metadata": {},
   "source": [
    "Now that we have a model to impute values for the place variable, we are going to use it on our main data frame. Doing so, we will have a complete data frame without missing values so much needed for future models that can not run with missing values. But first, we need to remove missing values from other variables in order for our current model to work on each row. We can do that and bypass the process of creating a predictor model for each other variables containing missing values as they represent roughly less than 2% of the total data set."
   ]
  },
  {
   "cell_type": "code",
   "execution_count": 54,
   "metadata": {},
   "outputs": [
    {
     "data": {
      "text/plain": [
       "1.0    191111\n",
       "2.0     28839\n",
       "nan     11349\n",
       "3.0      4955\n",
       "4.0      4161\n",
       "9.0      2756\n",
       "7.0      2505\n",
       "8.0      1273\n",
       "5.0      1121\n",
       "6.0       336\n",
       "Name: place, dtype: int64"
      ]
     },
     "execution_count": 54,
     "metadata": {},
     "output_type": "execute_result"
    }
   ],
   "source": [
    "df['place'].value_counts() # many 'nan' valuest = df"
   ]
  },
  {
   "cell_type": "code",
   "execution_count": 55,
   "metadata": {},
   "outputs": [],
   "source": [
    "# remove all missing values except for the place column\n",
    "# for this column, there are too many missing values so we chose to impute them with a classifier\n",
    "# this is because removing too many rows/records could hurt future model learning\n",
    "\n",
    "df = df[df.an_nais.notna()] # numeric\n",
    "df = df[df.trajet != 'nan'] # string\n",
    "df = df[df.plan != 'nan']\n",
    "df = df[df.infra != 'nan']\n",
    "df = df[df.situ != 'nan']\n",
    "df = df[df.circ != 'nan']\n",
    "df = df[df.atm != 'nan']\n",
    "df = df[df.col != 'nan']\n",
    "df = df[df.obs != 'nan']\n",
    "df = df[df.choc != 'nan']\n",
    "df = df[df.manv != 'nan']\n",
    "\n",
    "# iterate over all rows and impute place value when it is missing\n",
    "for index, row in df.iterrows():\n",
    "    if row.place == 'nan':\n",
    "        x = np.array(row[1:]) # remove the target variable\n",
    "        reshaped_to_2d = np.reshape(x, (-1, len(x))) # cast 1D into 2D as required \n",
    "        prediction = clf.predict(reshaped_to_2d)[0] # fetch the prediction\n",
    "        df.at[index,'place'] = prediction # impute the predicted value to our main dataframe"
   ]
  },
  {
   "cell_type": "code",
   "execution_count": 56,
   "metadata": {},
   "outputs": [
    {
     "data": {
      "text/plain": [
       "1.0    188647\n",
       "2.0     38528\n",
       "3.0      5104\n",
       "4.0      4543\n",
       "9.0      2865\n",
       "7.0      2493\n",
       "8.0      1484\n",
       "5.0      1109\n",
       "6.0       331\n",
       "Name: place, dtype: int64"
      ]
     },
     "execution_count": 56,
     "metadata": {},
     "output_type": "execute_result"
    }
   ],
   "source": [
    "df['place'].value_counts() # no more 'nan' values"
   ]
  },
  {
   "cell_type": "markdown",
   "metadata": {},
   "source": [
    "### B. Outliers\n",
    "\n",
    "Outliers can have a dramatic impact on a model's performance. Especially those computing distances or expecting gaussian value distribution like logistic or linear regression. If their impact are too strong, we can delte or replace those values. How to replace them?\n",
    "\n",
    "* [Winsorize the variable](https://en.wikipedia.org/wiki/Winsorizing)\n",
    "\n",
    ">  A typical strategy is to set all outliers to a specified percentile of the data; for example, a 90% winsorization would see all data below the 5th percentile set to the 5th percentile, and data above the 95th percentile set to the 95th percentile.\n",
    "\n",
    "* Discretize the variable\n",
    "\n",
    "We choose the winsorizing method to deal with the last numeric variable *an_nais* (birth year)."
   ]
  },
  {
   "cell_type": "code",
   "execution_count": 57,
   "metadata": {},
   "outputs": [
    {
     "data": {
      "image/png": "[encoded data removed]",
      "text/plain": [
       "<Figure size 432x288 with 1 Axes>"
      ]
     },
     "metadata": {
      "needs_background": "light"
     },
     "output_type": "display_data"
    }
   ],
   "source": [
    "boxplot = df.boxplot(column=['an_nais']) # look for outliers"
   ]
  },
  {
   "cell_type": "code",
   "execution_count": 58,
   "metadata": {},
   "outputs": [],
   "source": [
    "from scipy.stats.mstats import winsorize\n",
    "# limits is the percentages to cut on each side of the array\n",
    "winsorized = winsorize(df['an_nais'], limits=(0.01,0.01))\n",
    "temp = pd.DataFrame(data=winsorized)"
   ]
  },
  {
   "cell_type": "code",
   "execution_count": 59,
   "metadata": {},
   "outputs": [
    {
     "data": {
      "image/png": "[encoded data removed]",
      "text/plain": [
       "<Figure size 432x288 with 1 Axes>"
      ]
     },
     "metadata": {
      "needs_background": "light"
     },
     "output_type": "display_data"
    }
   ],
   "source": [
    "boxplot = temp.boxplot(column=[0]) # no more outliers"
   ]
  },
  {
   "cell_type": "code",
   "execution_count": 60,
   "metadata": {},
   "outputs": [
    {
     "data": {
      "text/plain": [
       "<matplotlib.axes._subplots.AxesSubplot at 0x1b89a03dfd0>"
      ]
     },
     "execution_count": 60,
     "metadata": {},
     "output_type": "execute_result"
    },
    {
     "data": {
      "image/png": "[encoded data removed]",
      "text/plain": [
       "<Figure size 432x288 with 1 Axes>"
      ]
     },
     "metadata": {
      "needs_background": "light"
     },
     "output_type": "display_data"
    }
   ],
   "source": [
    "temp.plot.hist(bins=100, alpha=0.75) # check the data distribution"
   ]
  },
  {
   "cell_type": "markdown",
   "metadata": {},
   "source": [
    "We notice a problem: winsorizing our variable changed its shape. It was unimodal but it is now multimodal (3 peaks). This is because there was not really any outsiders, and winsorizing pushed left and right end values so that they are packed together. This is not what we want, so we will not apply this change to our main data frame."
   ]
  },
  {
   "cell_type": "markdown",
   "metadata": {},
   "source": [
    "### C. Variable Transformation\n",
    "\n",
    "We saw the the value distribution of *an_nais* has a negative skewness. This might be a problem for some algorithms.\n",
    "\n",
    "#### Standardization\n",
    "\n",
    "This is needed before using an algorithm computing distances (K-means, Factor analysis like multiple correspondence analysis...). This allows for different variables to have the same weight in the analysis and neutralize the scale diffference between them.\n",
    "\n",
    "####  Normalization\n",
    "\n",
    "The goal is to transform a variable so that it tends to have a gaussian distribution. It is usefull for algorithms that suppose a gaussian distribution, like linear regression. The idea is to apply a mathematical transformation:\n",
    "\n",
    "* For positive skewness: Y^2 or Y^3\n",
    "* For negative skewness: log(Y) or log(1+Y) or sqrt(Y)\n",
    "* For percentages between 0 and 1: arcsin(sqrtY))\n",
    "\n",
    "\n",
    "####  Discretize\n",
    "\n",
    "The goal is to split a numeric value into different intervals. If we have not acces to a domain expert, the best way to do that is to use gaussian mixture model. Discretizing has the following advantages:\n",
    "\n",
    "* can consider non linear relationships between variables\n",
    "* can increase model performance (robust)\n",
    "* can neutralize the effect of missing values and outliers\n",
    "\n",
    "___\n",
    "\n",
    "We want to normalize the *an_nais* variable to solve the skewness problem before feeding the data to a linear regression model."
   ]
  },
  {
   "cell_type": "code",
   "execution_count": 61,
   "metadata": {},
   "outputs": [
    {
     "data": {
      "text/plain": [
       "0         1928.0\n",
       "1         1928.0\n",
       "2         1960.0\n",
       "3         1960.0\n",
       "4         1947.0\n",
       "           ...  \n",
       "248401    1974.0\n",
       "248402    1973.0\n",
       "248403    1973.0\n",
       "248404    1990.0\n",
       "248405    1990.0\n",
       "Name: an_nais, Length: 245104, dtype: float64"
      ]
     },
     "execution_count": 61,
     "metadata": {},
     "output_type": "execute_result"
    }
   ],
   "source": [
    "df['an_nais']"
   ]
  },
  {
   "cell_type": "code",
   "execution_count": 62,
   "metadata": {},
   "outputs": [],
   "source": [
    "normalized = np.log10((df['an_nais']-df['an_nais'].min()+1))"
   ]
  },
  {
   "cell_type": "code",
   "execution_count": 63,
   "metadata": {},
   "outputs": [
    {
     "data": {
      "text/plain": [
       "<matplotlib.axes._subplots.AxesSubplot at 0x1b899b527b8>"
      ]
     },
     "execution_count": 63,
     "metadata": {},
     "output_type": "execute_result"
    },
    {
     "data": {
      "image/png": "[encoded data removed]",
      "text/plain": [
       "<Figure size 432x288 with 1 Axes>"
      ]
     },
     "metadata": {
      "needs_background": "light"
     },
     "output_type": "display_data"
    }
   ],
   "source": [
    "normalized.plot.hist(bins=100, alpha=0.75) # check"
   ]
  },
  {
   "cell_type": "code",
   "execution_count": 64,
   "metadata": {},
   "outputs": [],
   "source": [
    "df['an_nais'] = normalized # apply transformation"
   ]
  },
  {
   "cell_type": "markdown",
   "metadata": {},
   "source": [
    "## 5. Models\n",
    "\n",
    "### A. Linear regression\n",
    "\n",
    "We will use scikit-learn to predict the class variable. Scikit-learn does not handle very well categorical variables, so we have to start with applying a multiple correspondence analysis (MCA) to transform categoric variables to numeric variables (we do not touch to the target variable and keep intact in the main dataframe). This is a PCA for categorical variables. The first step is to do a one hot encoding with *pandas.get_dummies()*.\n",
    "\n",
    "MCA is originally meant for dimensionality reduction, but in our case, we subvert it for numeric casting.\n",
    "So we can take advantage of the MCA to do dimensionality reduction, but it is not mandatory if we do not want to lose information. The model can handle to proceed all information by it itself.\n",
    "\n",
    "Why do not we just do one hot encoding?\n",
    "* Because we would end up with a lot of variables\n",
    "* And it is harder to make a prediction model in a high dimension space\n",
    "* And dummy variables often values 0 and are useless\n",
    "\n",
    "On the contrary, MCA produces intelligent variables as it highlights most important ones:\n",
    "* First axis contains the most information (variance)\n",
    "* Second axis contains the most information amongst orthogonal axis to 1\n",
    "* And so on..."
   ]
  },
  {
   "cell_type": "markdown",
   "metadata": {},
   "source": [
    "Running the MCA triggers a MemoryError (even on Python3 64 bits). There is too much data to handle. Let this be the opportunity to do some resampling on the target variable distribution. This will dramatically reduce the number of rows used for the MCA.\n"
   ]
  },
  {
   "cell_type": "code",
   "execution_count": 65,
   "metadata": {},
   "outputs": [
    {
     "data": {
      "image/png": "[encoded data removed]",
      "text/plain": [
       "<Figure size 432x288 with 1 Axes>"
      ]
     },
     "metadata": {
      "needs_background": "light"
     },
     "output_type": "display_data"
    }
   ],
   "source": [
    "# resampling\n",
    "\n",
    "# class count\n",
    "count_class_0, count_class_1 = df.lethal.value_counts()\n",
    "\n",
    "# divide by class\n",
    "df_class_0 = df[df['lethal'] == 0]\n",
    "df_class_1 = df[df['lethal'] == 1]\n",
    "df_class_0_under = df_class_0.sample(count_class_1)\n",
    "df_test_under = pd.concat([df_class_0_under, df_class_1], axis=0)\n",
    "df_test_under.lethal.value_counts().plot(kind='bar', title='Count (target)');"
   ]
  },
  {
   "cell_type": "code",
   "execution_count": 66,
   "metadata": {},
   "outputs": [],
   "source": [
    "X = df_test_under.drop('lethal', axis=1)\n",
    "y = df_test_under['lethal']\n",
    "dfbin=pd.get_dummies(X)"
   ]
  },
  {
   "cell_type": "code",
   "execution_count": 67,
   "metadata": {},
   "outputs": [
    {
     "data": {
      "text/plain": [
       "(10700, 28)"
      ]
     },
     "execution_count": 67,
     "metadata": {},
     "output_type": "execute_result"
    }
   ],
   "source": [
    "from mca2 import *\n",
    "\n",
    "dfbin=pd.get_dummies(X)\n",
    "acm=mca(dfbin)\n",
    "# we can do dimensionality reduction by precising which percentage of the best variables to keep\n",
    "compressed=acm.fs_r(percent=0.50)\n",
    "df_numeric = pd.DataFrame(data=compressed)\n",
    "df_numeric.shape"
   ]
  },
  {
   "cell_type": "code",
   "execution_count": 68,
   "metadata": {},
   "outputs": [
    {
     "data": {
      "text/plain": [
       "0     0\n",
       "1     0\n",
       "2     0\n",
       "3     0\n",
       "4     0\n",
       "5     0\n",
       "6     0\n",
       "7     0\n",
       "8     0\n",
       "9     0\n",
       "10    0\n",
       "11    0\n",
       "12    0\n",
       "13    0\n",
       "14    0\n",
       "15    0\n",
       "16    0\n",
       "17    0\n",
       "18    0\n",
       "19    0\n",
       "20    0\n",
       "21    0\n",
       "22    0\n",
       "23    0\n",
       "24    0\n",
       "25    0\n",
       "26    0\n",
       "27    0\n",
       "dtype: int64"
      ]
     },
     "execution_count": 68,
     "metadata": {},
     "output_type": "execute_result"
    }
   ],
   "source": [
    "df_numeric.isna().sum() # check that there are no na left"
   ]
  },
  {
   "cell_type": "code",
   "execution_count": 69,
   "metadata": {},
   "outputs": [
    {
     "data": {
      "text/plain": [
       "0"
      ]
     },
     "execution_count": 69,
     "metadata": {},
     "output_type": "execute_result"
    }
   ],
   "source": [
    "y.isna().sum() # check that there are no na left"
   ]
  },
  {
   "cell_type": "code",
   "execution_count": 70,
   "metadata": {},
   "outputs": [],
   "source": [
    "from sklearn.model_selection import train_test_split\n",
    "\n",
    "X = df_numeric\n",
    "X_train, X_test, y_train, y_test = train_test_split(X, y, test_size=0.33, shuffle=True)"
   ]
  },
  {
   "cell_type": "code",
   "execution_count": 71,
   "metadata": {},
   "outputs": [
    {
     "name": "stdout",
     "output_type": "stream",
     "text": [
      "Coefficients: \n",
      " [ 0.25700973  1.61532342 -0.44349878  0.06240983  0.37907655 -0.79048653\n",
      " -0.98167092 -0.20290891 -0.19828179 -0.03251892  0.96183732  0.285855\n",
      "  0.0984045   0.48695538  0.07556471 -0.40245679 -0.45901614 -0.31430152\n",
      " -0.29639814  0.41293886 -0.1839156   0.17240414 -0.18284255  0.02417184\n",
      "  0.08314727 -0.02268774 -0.08163837 -0.07480964]\n",
      "Mean squared error: 0.18\n",
      "Coefficient of determination: 0.29\n"
     ]
    }
   ],
   "source": [
    "from sklearn.linear_model import LinearRegression\n",
    "\n",
    "regr = LinearRegression().fit(X_train, y_train)\n",
    "\n",
    "# Make predictions using the testing set\n",
    "y_pred = regr.predict(X_test)\n",
    "\n",
    "# The coefficients\n",
    "print('Coefficients: \\n', regr.coef_)\n",
    "# The mean squared error\n",
    "print('Mean squared error: %.2f'\n",
    "      % metrics.mean_squared_error(y_test, y_pred))\n",
    "# The coefficient of determination: 1 is perfect prediction\n",
    "print('Coefficient of determination: %.2f'\n",
    "      % metrics.r2_score(y_test, y_pred))"
   ]
  },
  {
   "cell_type": "code",
   "execution_count": 72,
   "metadata": {},
   "outputs": [
    {
     "name": "stderr",
     "output_type": "stream",
     "text": [
      "C:\\Users\\loutouk\\Anaconda3\\lib\\site-packages\\sklearn\\model_selection\\_split.py:2053: FutureWarning: You should specify a value for 'cv' instead of relying on the default value. The default value will change from 3 to 5 in version 0.22.\n",
      "  warnings.warn(CV_WARNING, FutureWarning)\n"
     ]
    },
    {
     "name": "stdout",
     "output_type": "stream",
     "text": [
      "0.7485131690739167\n",
      "{'n_neighbors': 10}\n",
      "Precision:\t0.7484286733375749\n",
      "Recall:\t\t0.7481763517018578\n",
      "F-measure:\t0.7482553460436419\n"
     ]
    },
    {
     "data": {
      "image/png": "[encoded data removed]",
      "text/plain": [
       "<Figure size 648x648 with 2 Axes>"
      ]
     },
     "metadata": {
      "needs_background": "light"
     },
     "output_type": "display_data"
    }
   ],
   "source": [
    "from sklearn.neighbors import KNeighborsClassifier\n",
    "from sklearn.model_selection import cross_val_score\n",
    "from sklearn.model_selection import GridSearchCV\n",
    "\n",
    "# n_neighbors = Number of neighbors to use by default for kneighbors queries.\n",
    "param_grid={'n_neighbors': range(2,11,2)} # try different hyper parameters and let GridSearchCV pick up the\n",
    "best\n",
    "knn = GridSearchCV(KNeighborsClassifier(), param_grid)\n",
    "\n",
    "knn.fit(X_train, y_train)\n",
    "KNeighborsClassifier()\n",
    "\n",
    "score = knn.score(X_test, y_test) # simple scoring\n",
    "print(score)\n",
    "#score = cross_val_score(knn, X, y, cv=5)  # cross validation\n",
    "#print(score)\n",
    "print(knn.best_params_) # best param\n",
    "\n",
    "y_true = np.array(y_test)\n",
    "y_pred = np.array(knn.predict(X_test))\n",
    "\n",
    "# macro: calculate metrics for each label, and find their unweighted mean. This does not take label imbalance into account\n",
    "scores = precision_recall_fscore_support(y_true, y_pred, average='macro')\n",
    "print('Precision:\\t' + str(scores[0]))\n",
    "print('Recall:\\t\\t' + str(scores[1]))\n",
    "print('F-measure:\\t' + str(scores[2])) \n",
    "\n",
    "cm = metrics.confusion_matrix(y_test, knn.predict(X_test))\n",
    "plt.figure(figsize=(9,9))\n",
    "sn.heatmap(cm, annot=True, fmt=\".3f\", linewidths=.5, square = True, cmap = 'Blues_r');\n",
    "plt.ylabel('Actual label');\n",
    "plt.xlabel('Predicted label');\n",
    "all_sample_title = 'Accuracy Score: {0}'.format(score)\n",
    "plt.title(all_sample_title, size = 15);"
   ]
  },
  {
   "cell_type": "code",
   "execution_count": 73,
   "metadata": {},
   "outputs": [
    {
     "name": "stderr",
     "output_type": "stream",
     "text": [
      "C:\\Users\\loutouk\\Anaconda3\\lib\\site-packages\\sklearn\\model_selection\\_split.py:2053: FutureWarning: You should specify a value for 'cv' instead of relying on the default value. The default value will change from 3 to 5 in version 0.22.\n",
      "  warnings.warn(CV_WARNING, FutureWarning)\n"
     ]
    },
    {
     "name": "stdout",
     "output_type": "stream",
     "text": [
      "0.703483432455395\n",
      "{'max_depth': 3}\n",
      "Precision:\t0.7144348612339085\n",
      "Recall:\t\t0.7060059694708243\n",
      "F-measure:\t0.7011802023963898\n"
     ]
    },
    {
     "data": {
      "image/png": "[encoded data removed]",
      "text/plain": [
       "<Figure size 648x648 with 2 Axes>"
      ]
     },
     "metadata": {
      "needs_background": "light"
     },
     "output_type": "display_data"
    }
   ],
   "source": [
    "param_grid={'max_depth': range(3,9,1)}\n",
    "clf = GridSearchCV(DecisionTreeClassifier(), param_grid)\n",
    "clf = clf.fit(X_train, y_train)\n",
    "\n",
    "score = clf.score(X_test, y_test) # simple scoring\n",
    "print(score)\n",
    "\n",
    "print(clf.best_params_) # best param\n",
    "\n",
    "y_true = np.array(y_test)\n",
    "y_pred = np.array(clf.predict(X_test))\n",
    "\n",
    "# macro: calculate metrics for each label, and find their unweighted mean. This does not take label imbalance into account\n",
    "scores = precision_recall_fscore_support(y_true, y_pred, average='macro')\n",
    "print('Precision:\\t' + str(scores[0]))\n",
    "print('Recall:\\t\\t' + str(scores[1]))\n",
    "print('F-measure:\\t' + str(scores[2])) \n",
    "\n",
    "cm = metrics.confusion_matrix(y_test, clf.predict(X_test))\n",
    "plt.figure(figsize=(9,9))\n",
    "sn.heatmap(cm, annot=True, fmt=\".3f\", linewidths=.5, square = True, cmap = 'Blues_r');\n",
    "plt.ylabel('Actual label');\n",
    "plt.xlabel('Predicted label');\n",
    "all_sample_title = 'Accuracy Score: {0}'.format(score)\n",
    "plt.title(all_sample_title, size = 15);"
   ]
  },
  {
   "cell_type": "code",
   "execution_count": 74,
   "metadata": {},
   "outputs": [
    {
     "name": "stderr",
     "output_type": "stream",
     "text": [
      "C:\\Users\\loutouk\\Anaconda3\\lib\\site-packages\\sklearn\\linear_model\\logistic.py:433: FutureWarning: Default solver will be changed to 'lbfgs' in 0.22. Specify a solver to silence this warning.\n",
      "  FutureWarning)\n"
     ]
    },
    {
     "name": "stdout",
     "output_type": "stream",
     "text": [
      "0.7479467572925517\n",
      "Precision:\t0.7489936251675684\n",
      "Recall:\t\t0.7486328255409632\n",
      "F-measure:\t0.7479190784458174\n"
     ]
    },
    {
     "data": {
      "image/png": "[encoded data removed]",
      "text/plain": [
       "<Figure size 648x648 with 2 Axes>"
      ]
     },
     "metadata": {
      "needs_background": "light"
     },
     "output_type": "display_data"
    }
   ],
   "source": [
    "from sklearn.linear_model import LogisticRegression\n",
    "logRegr = LogisticRegression()\n",
    "logRegr.fit(X_train, y_train)\n",
    "\n",
    "\n",
    "score = logRegr.score(X_test, y_test) # simple scoring\n",
    "print(score)\n",
    "\n",
    "y_true = np.array(y_test)\n",
    "y_pred = np.array(logRegr.predict(X_test))\n",
    "\n",
    "# macro: calculate metrics for each label, and find their unweighted mean. This does not take label imbalance into account\n",
    "scores = precision_recall_fscore_support(y_true, y_pred, average='macro')\n",
    "print('Precision:\\t' + str(scores[0]))\n",
    "print('Recall:\\t\\t' + str(scores[1]))\n",
    "print('F-measure:\\t' + str(scores[2])) \n",
    "\n",
    "cm = metrics.confusion_matrix(y_test, logRegr.predict(X_test))\n",
    "plt.figure(figsize=(9,9))\n",
    "sn.heatmap(cm, annot=True, fmt=\".3f\", linewidths=.5, square = True, cmap = 'Blues_r');\n",
    "plt.ylabel('Actual label');\n",
    "plt.xlabel('Predicted label');\n",
    "all_sample_title = 'Accuracy Score: {0}'.format(score)\n",
    "plt.title(all_sample_title, size = 15);"
   ]
  },
  {
   "cell_type": "markdown",
   "metadata": {},
   "source": [
    "**We can assert how much the model is capable of distinguishing between class using the ROC curve**. We want the biggest area under curve (AUC) which translates into a curve close to the top left corner. On the contrary, the closer the curve comes to the 45 degrees (diagonal), the worst the model can distinguish between classes."
   ]
  },
  {
   "cell_type": "code",
   "execution_count": 75,
   "metadata": {},
   "outputs": [
    {
     "name": "stdout",
     "output_type": "stream",
     "text": [
      "KNN: ROC AUC=0.815\n",
      "Decision tree: ROC AUC=0.769\n",
      "Logistic regression: ROC AUC=0.816\n"
     ]
    },
    {
     "data": {
      "image/png": "[encoded data removed]",
      "text/plain": [
       "<Figure size 720x720 with 1 Axes>"
      ]
     },
     "metadata": {
      "needs_background": "light"
     },
     "output_type": "display_data"
    }
   ],
   "source": [
    "# roc curve and auc\n",
    "from sklearn.metrics import roc_auc_score\n",
    "from sklearn.metrics import roc_curve\n",
    "from matplotlib import pyplot\n",
    "\n",
    "knn_probs = knn.predict_proba(X_test)\n",
    "clf_probs = clf.predict_proba(X_test)\n",
    "lr_probs = logRegr.predict_proba(X_test)\n",
    "# keep probabilities for the positive outcome only\n",
    "knn_probs = knn_probs[:, 1]\n",
    "clf_probs = clf_probs[:, 1]\n",
    "lr_probs = lr_probs[:, 1]\n",
    "# calculate scores\n",
    "knn_auc = roc_auc_score(y_test, knn_probs)\n",
    "clf_auc = roc_auc_score(y_test, clf_probs)\n",
    "lr_auc = roc_auc_score(y_test, lr_probs)\n",
    "# summarize scores\n",
    "print('KNN: ROC AUC=%.3f' % (knn_auc))\n",
    "print('Decision tree: ROC AUC=%.3f' % (clf_auc))\n",
    "print('Logistic regression: ROC AUC=%.3f' % (lr_auc))\n",
    "# calculate roc curves\n",
    "knn_fpr, knn_tpr, _ = roc_curve(y_test, knn_probs)\n",
    "clf_fpr, clf_tpr, _ = roc_curve(y_test, clf_probs)\n",
    "lr_fpr, lr_tpr, _ = roc_curve(y_test, lr_probs)\n",
    "# plot the roc curve for the model\n",
    "pyplot.plot(knn_fpr, knn_tpr, linestyle='--', label='KNN')\n",
    "pyplot.plot(clf_fpr, clf_tpr, marker='.', label='Decision Tree')\n",
    "pyplot.plot(lr_fpr, lr_tpr, marker='.', label='Logistic regression')\n",
    "# axis labels\n",
    "pyplot.xlabel('False Positive Rate')\n",
    "pyplot.ylabel('True Positive Rate')\n",
    "# show the legend\n",
    "pyplot.legend()\n",
    "# show the plot\n",
    "pyplot.gcf().set_size_inches(10, 10)\n",
    "pyplot.show()"
   ]
  },
  {
   "cell_type": "markdown",
   "metadata": {},
   "source": [
    "We can use the original data frame that did not went through MCA dimensionality reduction to build another decision tree classifier. The interest is that we can make sense of the decision tree and see which predictor variables are the most correlated with the target variable. **We can also take informed decision for safety guidelines. Like increasing lighting at night and make the belt mandatory.**"
   ]
  },
  {
   "cell_type": "code",
   "execution_count": 76,
   "metadata": {},
   "outputs": [
    {
     "name": "stdout",
     "output_type": "stream",
     "text": [
      "0.7302180685358255\n",
      "[[1035  589]\n",
      " [ 277 1309]]\n",
      "DecisionTree: Area under the ROC curve = 0.7936654392808999\n"
     ]
    }
   ],
   "source": [
    "clf_bis = DecisionTreeClassifier(max_depth=4)\n",
    "\n",
    "X_bis = df_test_under.drop('lethal', axis=1)\n",
    "y_bis = df_test_under['lethal']\n",
    "X_train_bis, X_test_bis, y_train_bis, y_test_bis = train_test_split(X_bis, y_bis, test_size=0.30, shuffle=True)\n",
    "clf_bis = clf_bis.fit(X_train_bis, y_train_bis)\n",
    "\n",
    "score = clf_bis.score(X_test_bis, y_test_bis)\n",
    "print(score)\n",
    "\n",
    "cm = metrics.confusion_matrix(y_test_bis, clf_bis.predict(X_test_bis))\n",
    "print(cm)\n",
    "\n",
    "tree_performance = roc_auc_score(y_test_bis, clf_bis.predict_proba(X_test_bis)[:, 1])\n",
    "print('DecisionTree: Area under the ROC curve = {}'.format(tree_performance))"
   ]
  },
  {
   "cell_type": "code",
   "execution_count": 78,
   "metadata": {},
   "outputs": [],
   "source": [
    "from sklearn.tree import export_graphviz\n",
    "from graphviz import Digraph\n",
    "\n",
    "dot = Digraph(comment='Tree interpretable')\n",
    "export_graphviz(clf_bis,out_file='tree_uncompressed.dot', feature_names = X_bis.columns, class_names=['Non-lethal', 'Lethal'], filled=True, )\n",
    "#visualize the dot file on https://dreampuf.github.io/GraphvizOnline/"
   ]
  },
  {
   "cell_type": "code",
   "execution_count": null,
   "metadata": {},
   "outputs": [],
   "source": []
  },
  {
   "cell_type": "code",
   "execution_count": null,
   "metadata": {},
   "outputs": [],
   "source": []
  },
  {
   "cell_type": "code",
   "execution_count": null,
   "metadata": {},
   "outputs": [],
   "source": [
    "\n"
   ]
  }
 ],
 "metadata": {
  "kernelspec": {
   "display_name": "Python 3",
   "language": "python",
   "name": "python3"
  },
  "language_info": {
   "codemirror_mode": {
    "name": "ipython",
    "version": 3
   },
   "file_extension": ".py",
   "mimetype": "text/x-python",
   "name": "python",
   "nbconvert_exporter": "python",
   "pygments_lexer": "ipython3",
   "version": "3.6.6"
  }
 },
 "nbformat": 4,
 "nbformat_minor": 2
}
